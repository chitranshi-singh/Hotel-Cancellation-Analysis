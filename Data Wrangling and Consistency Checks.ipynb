{
 "cells": [
  {
   "cell_type": "markdown",
   "id": "fa93cd68",
   "metadata": {},
   "source": [
    "# Table of Contents\n",
    "\n",
    "01. Importing libraries\n",
    "02. Importing data\n",
    "03. Understanding dataset\n",
    "04. Wrangling and Consistency checks\n",
    "    1) dropping irrelevant columns\n",
    "    2) missing values check\n",
    "    3) mixed-type data\n",
    "    4) univariate analysis\n",
    "    5) remove duplicates\n",
    "05. Data preparation\n",
    "06. Exporting dataframe"
   ]
  },
  {
   "cell_type": "markdown",
   "id": "2311747a",
   "metadata": {},
   "source": [
    "## 01. Import libraries"
   ]
  },
  {
   "cell_type": "code",
   "execution_count": 1,
   "id": "06f8fe28",
   "metadata": {},
   "outputs": [],
   "source": [
    "# import libraries\n",
    "\n",
    "import pandas as pd\n",
    "import numpy as np\n",
    "import seaborn as sns\n",
    "import matplotlib.pyplot as plt\n",
    "import os"
   ]
  },
  {
   "cell_type": "markdown",
   "id": "0bbd7f37",
   "metadata": {},
   "source": [
    "## 02. Import data"
   ]
  },
  {
   "cell_type": "code",
   "execution_count": 2,
   "id": "1220bf28",
   "metadata": {},
   "outputs": [],
   "source": [
    "# create a variable to store the main project folder path\n",
    "\n",
    "path=r'/Users/tejas/Documents/CareerFoundry_DataAnalytics/Data Immersion/A6/Hotel Booking'"
   ]
  },
  {
   "cell_type": "code",
   "execution_count": 3,
   "id": "11a2b073",
   "metadata": {},
   "outputs": [
    {
     "data": {
      "text/plain": [
       "'/Users/tejas/Documents/CareerFoundry_DataAnalytics/Data Immersion/A6/Hotel Booking'"
      ]
     },
     "execution_count": 3,
     "metadata": {},
     "output_type": "execute_result"
    }
   ],
   "source": [
    "path"
   ]
  },
  {
   "cell_type": "code",
   "execution_count": 4,
   "id": "3eefccbc",
   "metadata": {},
   "outputs": [],
   "source": [
    "# import hotel_booking.csv data set\n",
    "\n",
    "df=pd.read_csv(os.path.join(path,'Data','Original Data','hotel_booking.csv'), index_col=False)"
   ]
  },
  {
   "cell_type": "markdown",
   "id": "529db21f",
   "metadata": {},
   "source": [
    "## 03. Understanding the dataset"
   ]
  },
  {
   "cell_type": "code",
   "execution_count": 5,
   "id": "7f8684ff",
   "metadata": {},
   "outputs": [
    {
     "data": {
      "text/plain": [
       "(119390, 32)"
      ]
     },
     "execution_count": 5,
     "metadata": {},
     "output_type": "execute_result"
    }
   ],
   "source": [
    "# check the total size\n",
    "\n",
    "df.shape"
   ]
  },
  {
   "cell_type": "code",
   "execution_count": 6,
   "id": "ed214353",
   "metadata": {},
   "outputs": [
    {
     "name": "stdout",
     "output_type": "stream",
     "text": [
      "<class 'pandas.core.frame.DataFrame'>\n",
      "RangeIndex: 119390 entries, 0 to 119389\n",
      "Data columns (total 32 columns):\n",
      " #   Column                          Non-Null Count   Dtype  \n",
      "---  ------                          --------------   -----  \n",
      " 0   hotel                           119390 non-null  object \n",
      " 1   is_canceled                     119390 non-null  int64  \n",
      " 2   lead_time                       119390 non-null  int64  \n",
      " 3   arrival_date_year               119390 non-null  int64  \n",
      " 4   arrival_date_month              119390 non-null  object \n",
      " 5   arrival_date_week_number        119390 non-null  int64  \n",
      " 6   arrival_date_day_of_month       119390 non-null  int64  \n",
      " 7   stays_in_weekend_nights         119390 non-null  int64  \n",
      " 8   stays_in_week_nights            119390 non-null  int64  \n",
      " 9   adults                          119390 non-null  int64  \n",
      " 10  children                        119386 non-null  float64\n",
      " 11  babies                          119390 non-null  int64  \n",
      " 12  meal                            119390 non-null  object \n",
      " 13  country                         118902 non-null  object \n",
      " 14  market_segment                  119390 non-null  object \n",
      " 15  distribution_channel            119390 non-null  object \n",
      " 16  is_repeated_guest               119390 non-null  int64  \n",
      " 17  previous_cancellations          119390 non-null  int64  \n",
      " 18  previous_bookings_not_canceled  119390 non-null  int64  \n",
      " 19  reserved_room_type              119390 non-null  object \n",
      " 20  assigned_room_type              119390 non-null  object \n",
      " 21  booking_changes                 119390 non-null  int64  \n",
      " 22  deposit_type                    119390 non-null  object \n",
      " 23  agent                           103050 non-null  float64\n",
      " 24  company                         6797 non-null    float64\n",
      " 25  days_in_waiting_list            119390 non-null  int64  \n",
      " 26  customer_type                   119390 non-null  object \n",
      " 27  adr                             119390 non-null  float64\n",
      " 28  required_car_parking_spaces     119390 non-null  int64  \n",
      " 29  total_of_special_requests       119390 non-null  int64  \n",
      " 30  reservation_status              119390 non-null  object \n",
      " 31  reservation_status_date         119390 non-null  object \n",
      "dtypes: float64(4), int64(16), object(12)\n",
      "memory usage: 29.1+ MB\n"
     ]
    }
   ],
   "source": [
    "df.info()"
   ]
  },
  {
   "cell_type": "code",
   "execution_count": 7,
   "id": "a686df4d",
   "metadata": {},
   "outputs": [
    {
     "data": {
      "text/html": [
       "<div>\n",
       "<style scoped>\n",
       "    .dataframe tbody tr th:only-of-type {\n",
       "        vertical-align: middle;\n",
       "    }\n",
       "\n",
       "    .dataframe tbody tr th {\n",
       "        vertical-align: top;\n",
       "    }\n",
       "\n",
       "    .dataframe thead th {\n",
       "        text-align: right;\n",
       "    }\n",
       "</style>\n",
       "<table border=\"1\" class=\"dataframe\">\n",
       "  <thead>\n",
       "    <tr style=\"text-align: right;\">\n",
       "      <th></th>\n",
       "      <th>hotel</th>\n",
       "      <th>is_canceled</th>\n",
       "      <th>lead_time</th>\n",
       "      <th>arrival_date_year</th>\n",
       "      <th>arrival_date_month</th>\n",
       "      <th>arrival_date_week_number</th>\n",
       "      <th>arrival_date_day_of_month</th>\n",
       "      <th>stays_in_weekend_nights</th>\n",
       "      <th>stays_in_week_nights</th>\n",
       "      <th>adults</th>\n",
       "      <th>...</th>\n",
       "      <th>deposit_type</th>\n",
       "      <th>agent</th>\n",
       "      <th>company</th>\n",
       "      <th>days_in_waiting_list</th>\n",
       "      <th>customer_type</th>\n",
       "      <th>adr</th>\n",
       "      <th>required_car_parking_spaces</th>\n",
       "      <th>total_of_special_requests</th>\n",
       "      <th>reservation_status</th>\n",
       "      <th>reservation_status_date</th>\n",
       "    </tr>\n",
       "  </thead>\n",
       "  <tbody>\n",
       "    <tr>\n",
       "      <th>0</th>\n",
       "      <td>Resort Hotel</td>\n",
       "      <td>0</td>\n",
       "      <td>342</td>\n",
       "      <td>2015</td>\n",
       "      <td>July</td>\n",
       "      <td>27</td>\n",
       "      <td>1</td>\n",
       "      <td>0</td>\n",
       "      <td>0</td>\n",
       "      <td>2</td>\n",
       "      <td>...</td>\n",
       "      <td>No Deposit</td>\n",
       "      <td>NaN</td>\n",
       "      <td>NaN</td>\n",
       "      <td>0</td>\n",
       "      <td>Transient</td>\n",
       "      <td>0.0</td>\n",
       "      <td>0</td>\n",
       "      <td>0</td>\n",
       "      <td>Check-Out</td>\n",
       "      <td>2015-07-01</td>\n",
       "    </tr>\n",
       "    <tr>\n",
       "      <th>1</th>\n",
       "      <td>Resort Hotel</td>\n",
       "      <td>0</td>\n",
       "      <td>737</td>\n",
       "      <td>2015</td>\n",
       "      <td>July</td>\n",
       "      <td>27</td>\n",
       "      <td>1</td>\n",
       "      <td>0</td>\n",
       "      <td>0</td>\n",
       "      <td>2</td>\n",
       "      <td>...</td>\n",
       "      <td>No Deposit</td>\n",
       "      <td>NaN</td>\n",
       "      <td>NaN</td>\n",
       "      <td>0</td>\n",
       "      <td>Transient</td>\n",
       "      <td>0.0</td>\n",
       "      <td>0</td>\n",
       "      <td>0</td>\n",
       "      <td>Check-Out</td>\n",
       "      <td>2015-07-01</td>\n",
       "    </tr>\n",
       "    <tr>\n",
       "      <th>2</th>\n",
       "      <td>Resort Hotel</td>\n",
       "      <td>0</td>\n",
       "      <td>7</td>\n",
       "      <td>2015</td>\n",
       "      <td>July</td>\n",
       "      <td>27</td>\n",
       "      <td>1</td>\n",
       "      <td>0</td>\n",
       "      <td>1</td>\n",
       "      <td>1</td>\n",
       "      <td>...</td>\n",
       "      <td>No Deposit</td>\n",
       "      <td>NaN</td>\n",
       "      <td>NaN</td>\n",
       "      <td>0</td>\n",
       "      <td>Transient</td>\n",
       "      <td>75.0</td>\n",
       "      <td>0</td>\n",
       "      <td>0</td>\n",
       "      <td>Check-Out</td>\n",
       "      <td>2015-07-02</td>\n",
       "    </tr>\n",
       "    <tr>\n",
       "      <th>3</th>\n",
       "      <td>Resort Hotel</td>\n",
       "      <td>0</td>\n",
       "      <td>13</td>\n",
       "      <td>2015</td>\n",
       "      <td>July</td>\n",
       "      <td>27</td>\n",
       "      <td>1</td>\n",
       "      <td>0</td>\n",
       "      <td>1</td>\n",
       "      <td>1</td>\n",
       "      <td>...</td>\n",
       "      <td>No Deposit</td>\n",
       "      <td>304.0</td>\n",
       "      <td>NaN</td>\n",
       "      <td>0</td>\n",
       "      <td>Transient</td>\n",
       "      <td>75.0</td>\n",
       "      <td>0</td>\n",
       "      <td>0</td>\n",
       "      <td>Check-Out</td>\n",
       "      <td>2015-07-02</td>\n",
       "    </tr>\n",
       "    <tr>\n",
       "      <th>4</th>\n",
       "      <td>Resort Hotel</td>\n",
       "      <td>0</td>\n",
       "      <td>14</td>\n",
       "      <td>2015</td>\n",
       "      <td>July</td>\n",
       "      <td>27</td>\n",
       "      <td>1</td>\n",
       "      <td>0</td>\n",
       "      <td>2</td>\n",
       "      <td>2</td>\n",
       "      <td>...</td>\n",
       "      <td>No Deposit</td>\n",
       "      <td>240.0</td>\n",
       "      <td>NaN</td>\n",
       "      <td>0</td>\n",
       "      <td>Transient</td>\n",
       "      <td>98.0</td>\n",
       "      <td>0</td>\n",
       "      <td>1</td>\n",
       "      <td>Check-Out</td>\n",
       "      <td>2015-07-03</td>\n",
       "    </tr>\n",
       "  </tbody>\n",
       "</table>\n",
       "<p>5 rows × 32 columns</p>\n",
       "</div>"
      ],
      "text/plain": [
       "          hotel  is_canceled  lead_time  arrival_date_year arrival_date_month  \\\n",
       "0  Resort Hotel            0        342               2015               July   \n",
       "1  Resort Hotel            0        737               2015               July   \n",
       "2  Resort Hotel            0          7               2015               July   \n",
       "3  Resort Hotel            0         13               2015               July   \n",
       "4  Resort Hotel            0         14               2015               July   \n",
       "\n",
       "   arrival_date_week_number  arrival_date_day_of_month  \\\n",
       "0                        27                          1   \n",
       "1                        27                          1   \n",
       "2                        27                          1   \n",
       "3                        27                          1   \n",
       "4                        27                          1   \n",
       "\n",
       "   stays_in_weekend_nights  stays_in_week_nights  adults  ...  deposit_type  \\\n",
       "0                        0                     0       2  ...    No Deposit   \n",
       "1                        0                     0       2  ...    No Deposit   \n",
       "2                        0                     1       1  ...    No Deposit   \n",
       "3                        0                     1       1  ...    No Deposit   \n",
       "4                        0                     2       2  ...    No Deposit   \n",
       "\n",
       "   agent company days_in_waiting_list customer_type   adr  \\\n",
       "0    NaN     NaN                    0     Transient   0.0   \n",
       "1    NaN     NaN                    0     Transient   0.0   \n",
       "2    NaN     NaN                    0     Transient  75.0   \n",
       "3  304.0     NaN                    0     Transient  75.0   \n",
       "4  240.0     NaN                    0     Transient  98.0   \n",
       "\n",
       "   required_car_parking_spaces  total_of_special_requests  reservation_status  \\\n",
       "0                            0                          0           Check-Out   \n",
       "1                            0                          0           Check-Out   \n",
       "2                            0                          0           Check-Out   \n",
       "3                            0                          0           Check-Out   \n",
       "4                            0                          1           Check-Out   \n",
       "\n",
       "  reservation_status_date  \n",
       "0              2015-07-01  \n",
       "1              2015-07-01  \n",
       "2              2015-07-02  \n",
       "3              2015-07-02  \n",
       "4              2015-07-03  \n",
       "\n",
       "[5 rows x 32 columns]"
      ]
     },
     "execution_count": 7,
     "metadata": {},
     "output_type": "execute_result"
    }
   ],
   "source": [
    "# print the first 5 rows\n",
    "\n",
    "df.head()"
   ]
  },
  {
   "cell_type": "markdown",
   "id": "5362c9ff",
   "metadata": {},
   "source": [
    "## 04. Data wrangling and consistency"
   ]
  },
  {
   "cell_type": "markdown",
   "id": "f49e4fce",
   "metadata": {},
   "source": [
    "### Missing values check"
   ]
  },
  {
   "cell_type": "code",
   "execution_count": 8,
   "id": "c7159aea",
   "metadata": {},
   "outputs": [
    {
     "data": {
      "text/plain": [
       "hotel                                  0\n",
       "is_canceled                            0\n",
       "lead_time                              0\n",
       "arrival_date_year                      0\n",
       "arrival_date_month                     0\n",
       "arrival_date_week_number               0\n",
       "arrival_date_day_of_month              0\n",
       "stays_in_weekend_nights                0\n",
       "stays_in_week_nights                   0\n",
       "adults                                 0\n",
       "children                               4\n",
       "babies                                 0\n",
       "meal                                   0\n",
       "country                              488\n",
       "market_segment                         0\n",
       "distribution_channel                   0\n",
       "is_repeated_guest                      0\n",
       "previous_cancellations                 0\n",
       "previous_bookings_not_canceled         0\n",
       "reserved_room_type                     0\n",
       "assigned_room_type                     0\n",
       "booking_changes                        0\n",
       "deposit_type                           0\n",
       "agent                              16340\n",
       "company                           112593\n",
       "days_in_waiting_list                   0\n",
       "customer_type                          0\n",
       "adr                                    0\n",
       "required_car_parking_spaces            0\n",
       "total_of_special_requests              0\n",
       "reservation_status                     0\n",
       "reservation_status_date                0\n",
       "dtype: int64"
      ]
     },
     "execution_count": 8,
     "metadata": {},
     "output_type": "execute_result"
    }
   ],
   "source": [
    "# check for missing values\n",
    "\n",
    "df.isnull().sum()"
   ]
  },
  {
   "cell_type": "code",
   "execution_count": 9,
   "id": "63876163",
   "metadata": {},
   "outputs": [
    {
     "data": {
      "text/plain": [
       "hotel                              0.000000\n",
       "is_canceled                        0.000000\n",
       "lead_time                          0.000000\n",
       "arrival_date_year                  0.000000\n",
       "arrival_date_month                 0.000000\n",
       "arrival_date_week_number           0.000000\n",
       "arrival_date_day_of_month          0.000000\n",
       "stays_in_weekend_nights            0.000000\n",
       "stays_in_week_nights               0.000000\n",
       "adults                             0.000000\n",
       "children                           0.003350\n",
       "babies                             0.000000\n",
       "meal                               0.000000\n",
       "country                            0.408744\n",
       "market_segment                     0.000000\n",
       "distribution_channel               0.000000\n",
       "is_repeated_guest                  0.000000\n",
       "previous_cancellations             0.000000\n",
       "previous_bookings_not_canceled     0.000000\n",
       "reserved_room_type                 0.000000\n",
       "assigned_room_type                 0.000000\n",
       "booking_changes                    0.000000\n",
       "deposit_type                       0.000000\n",
       "agent                             13.686238\n",
       "company                           94.306893\n",
       "days_in_waiting_list               0.000000\n",
       "customer_type                      0.000000\n",
       "adr                                0.000000\n",
       "required_car_parking_spaces        0.000000\n",
       "total_of_special_requests          0.000000\n",
       "reservation_status                 0.000000\n",
       "reservation_status_date            0.000000\n",
       "dtype: float64"
      ]
     },
     "execution_count": 9,
     "metadata": {},
     "output_type": "execute_result"
    }
   ],
   "source": [
    "df.isnull().sum()* 100 / len(df)"
   ]
  },
  {
   "cell_type": "markdown",
   "id": "af1813f6",
   "metadata": {},
   "source": [
    "#### 'agent' and 'company' : dropping these columns since they have a lot of missing data and will not be used in the analysis.\n",
    "#### 'children' : imputing the missing values with its median\n",
    "#### 'country' : imputing the missing values with its mode"
   ]
  },
  {
   "cell_type": "markdown",
   "id": "b5d16c1b",
   "metadata": {},
   "source": [
    "### Drop irrelevant columns"
   ]
  },
  {
   "cell_type": "code",
   "execution_count": 10,
   "id": "8e59a070",
   "metadata": {},
   "outputs": [],
   "source": [
    "df = df.drop(['agent','company'],axis=1)"
   ]
  },
  {
   "cell_type": "code",
   "execution_count": 11,
   "id": "b7442694",
   "metadata": {},
   "outputs": [],
   "source": [
    "df['children'] = np.where(df['children'].isnull(), df['children'].median(), df['children'])"
   ]
  },
  {
   "cell_type": "code",
   "execution_count": 12,
   "id": "2056518e",
   "metadata": {},
   "outputs": [],
   "source": [
    "df['country'] = np.where(df['country'].isnull(), df['country'].mode(), df['country'])"
   ]
  },
  {
   "cell_type": "code",
   "execution_count": 13,
   "id": "e302e9e0",
   "metadata": {},
   "outputs": [
    {
     "data": {
      "text/plain": [
       "hotel                             0\n",
       "is_canceled                       0\n",
       "lead_time                         0\n",
       "arrival_date_year                 0\n",
       "arrival_date_month                0\n",
       "arrival_date_week_number          0\n",
       "arrival_date_day_of_month         0\n",
       "stays_in_weekend_nights           0\n",
       "stays_in_week_nights              0\n",
       "adults                            0\n",
       "children                          0\n",
       "babies                            0\n",
       "meal                              0\n",
       "country                           0\n",
       "market_segment                    0\n",
       "distribution_channel              0\n",
       "is_repeated_guest                 0\n",
       "previous_cancellations            0\n",
       "previous_bookings_not_canceled    0\n",
       "reserved_room_type                0\n",
       "assigned_room_type                0\n",
       "booking_changes                   0\n",
       "deposit_type                      0\n",
       "days_in_waiting_list              0\n",
       "customer_type                     0\n",
       "adr                               0\n",
       "required_car_parking_spaces       0\n",
       "total_of_special_requests         0\n",
       "reservation_status                0\n",
       "reservation_status_date           0\n",
       "dtype: int64"
      ]
     },
     "execution_count": 13,
     "metadata": {},
     "output_type": "execute_result"
    }
   ],
   "source": [
    "# check missing values again\n",
    "\n",
    "df.isnull().sum()"
   ]
  },
  {
   "cell_type": "code",
   "execution_count": 14,
   "id": "1ee2a8e1",
   "metadata": {},
   "outputs": [
    {
     "data": {
      "text/plain": [
       "hotel                              object\n",
       "is_canceled                         int64\n",
       "lead_time                           int64\n",
       "arrival_date_year                   int64\n",
       "arrival_date_month                 object\n",
       "arrival_date_week_number            int64\n",
       "arrival_date_day_of_month           int64\n",
       "stays_in_weekend_nights             int64\n",
       "stays_in_week_nights                int64\n",
       "adults                              int64\n",
       "children                          float64\n",
       "babies                              int64\n",
       "meal                               object\n",
       "country                            object\n",
       "market_segment                     object\n",
       "distribution_channel               object\n",
       "is_repeated_guest                   int64\n",
       "previous_cancellations              int64\n",
       "previous_bookings_not_canceled      int64\n",
       "reserved_room_type                 object\n",
       "assigned_room_type                 object\n",
       "booking_changes                     int64\n",
       "deposit_type                       object\n",
       "days_in_waiting_list                int64\n",
       "customer_type                      object\n",
       "adr                               float64\n",
       "required_car_parking_spaces         int64\n",
       "total_of_special_requests           int64\n",
       "reservation_status                 object\n",
       "reservation_status_date            object\n",
       "dtype: object"
      ]
     },
     "execution_count": 14,
     "metadata": {},
     "output_type": "execute_result"
    }
   ],
   "source": [
    "df.dtypes"
   ]
  },
  {
   "cell_type": "code",
   "execution_count": 15,
   "id": "8ec35bf8",
   "metadata": {},
   "outputs": [],
   "source": [
    "# update the data type of 'children' from float to int\n",
    "\n",
    "df['children'] = df['children'].astype('int64')"
   ]
  },
  {
   "cell_type": "markdown",
   "id": "9aa8a870",
   "metadata": {},
   "source": [
    "### Mixed-type data"
   ]
  },
  {
   "cell_type": "code",
   "execution_count": 16,
   "id": "b7a1c7a6",
   "metadata": {},
   "outputs": [],
   "source": [
    "# check for mixed-type data\n",
    "\n",
    "for col in df.columns.tolist():\n",
    "  weird = (df[[col]].applymap(type) != df[[col]].iloc[0].apply(type)).any(axis = 1)\n",
    "  if len (df[weird]) > 0:\n",
    "    print (col)"
   ]
  },
  {
   "cell_type": "markdown",
   "id": "0794423a",
   "metadata": {},
   "source": [
    "#### there is no mixed-type data"
   ]
  },
  {
   "cell_type": "markdown",
   "id": "0c6b33f8",
   "metadata": {},
   "source": [
    "### Inconsistent data"
   ]
  },
  {
   "cell_type": "markdown",
   "id": "7066b080",
   "metadata": {},
   "source": [
    "#### I will look for inconsistent data in the dataset, that is, I will check that the unique values of the categorical columns are correct."
   ]
  },
  {
   "cell_type": "code",
   "execution_count": 17,
   "id": "75515709",
   "metadata": {},
   "outputs": [],
   "source": [
    "# categorical columns\n",
    "\n",
    "cat_columns = ['hotel', 'is_canceled', 'arrival_date_month', 'meal', 'country', 'market_segment', 'distribution_channel',\n",
    "               'is_repeated_guest', 'reserved_room_type', 'assigned_room_type', 'deposit_type',\n",
    "               'customer_type', 'reservation_status']"
   ]
  },
  {
   "cell_type": "code",
   "execution_count": 18,
   "id": "1850081b",
   "metadata": {},
   "outputs": [
    {
     "name": "stdout",
     "output_type": "stream",
     "text": [
      "UNIQUE VALUES BY CATEGORICAL COLUMNS\n",
      "\n",
      "\n",
      "hotel: \n",
      "['Resort Hotel' 'City Hotel']\n",
      "\n",
      "----------------------------------------------------------------------\n",
      "\n",
      "is_canceled: \n",
      "[0 1]\n",
      "\n",
      "----------------------------------------------------------------------\n",
      "\n",
      "arrival_date_month: \n",
      "['July' 'August' 'September' 'October' 'November' 'December' 'January'\n",
      " 'February' 'March' 'April' 'May' 'June']\n",
      "\n",
      "----------------------------------------------------------------------\n",
      "\n",
      "meal: \n",
      "['BB' 'FB' 'HB' 'SC' 'Undefined']\n",
      "\n",
      "----------------------------------------------------------------------\n",
      "\n",
      "country: \n",
      "['PRT' 'GBR' 'USA' 'ESP' 'IRL' 'FRA' 'ROU' 'NOR' 'OMN' 'ARG' 'POL' 'DEU'\n",
      " 'BEL' 'CHE' 'CN' 'GRC' 'ITA' 'NLD' 'DNK' 'RUS' 'SWE' 'AUS' 'EST' 'CZE'\n",
      " 'BRA' 'FIN' 'MOZ' 'BWA' 'LUX' 'SVN' 'ALB' 'IND' 'CHN' 'MEX' 'MAR' 'UKR'\n",
      " 'SMR' 'LVA' 'PRI' 'SRB' 'CHL' 'AUT' 'BLR' 'LTU' 'TUR' 'ZAF' 'AGO' 'ISR'\n",
      " 'CYM' 'ZMB' 'CPV' 'ZWE' 'DZA' 'KOR' 'CRI' 'HUN' 'ARE' 'TUN' 'JAM' 'HRV'\n",
      " 'HKG' 'IRN' 'GEO' 'AND' 'GIB' 'URY' 'JEY' 'CAF' 'CYP' 'COL' 'GGY' 'KWT'\n",
      " 'NGA' 'MDV' 'VEN' 'SVK' 'FJI' 'KAZ' 'PAK' 'IDN' 'LBN' 'PHL' 'SEN' 'SYC'\n",
      " 'AZE' 'BHR' 'NZL' 'THA' 'DOM' 'MKD' 'MYS' 'ARM' 'JPN' 'LKA' 'CUB' 'CMR'\n",
      " 'BIH' 'MUS' 'COM' 'SUR' 'UGA' 'BGR' 'CIV' 'JOR' 'SYR' 'SGP' 'BDI' 'SAU'\n",
      " 'VNM' 'PLW' 'QAT' 'EGY' 'PER' 'MLT' 'MWI' 'ECU' 'MDG' 'ISL' 'UZB' 'NPL'\n",
      " 'BHS' 'MAC' 'TGO' 'TWN' 'DJI' 'STP' 'KNA' 'ETH' 'IRQ' 'HND' 'RWA' 'KHM'\n",
      " 'MCO' 'BGD' 'IMN' 'TJK' 'NIC' 'BEN' 'VGB' 'TZA' 'GAB' 'GHA' 'TMP' 'GLP'\n",
      " 'KEN' 'LIE' 'GNB' 'MNE' 'UMI' 'MYT' 'FRO' 'MMR' 'PAN' 'BFA' 'LBY' 'MLI'\n",
      " 'NAM' 'BOL' 'PRY' 'BRB' 'ABW' 'AIA' 'SLV' 'DMA' 'PYF' 'GUY' 'LCA' 'ATA'\n",
      " 'GTM' 'ASM' 'MRT' 'NCL' 'KIR' 'SDN' 'ATF' 'SLE' 'LAO']\n",
      "\n",
      "----------------------------------------------------------------------\n",
      "\n",
      "market_segment: \n",
      "['Direct' 'Corporate' 'Online TA' 'Offline TA/TO' 'Complementary' 'Groups'\n",
      " 'Undefined' 'Aviation']\n",
      "\n",
      "----------------------------------------------------------------------\n",
      "\n",
      "distribution_channel: \n",
      "['Direct' 'Corporate' 'TA/TO' 'Undefined' 'GDS']\n",
      "\n",
      "----------------------------------------------------------------------\n",
      "\n",
      "is_repeated_guest: \n",
      "[0 1]\n",
      "\n",
      "----------------------------------------------------------------------\n",
      "\n",
      "reserved_room_type: \n",
      "['C' 'A' 'D' 'E' 'G' 'F' 'H' 'L' 'P' 'B']\n",
      "\n",
      "----------------------------------------------------------------------\n",
      "\n",
      "assigned_room_type: \n",
      "['C' 'A' 'D' 'E' 'G' 'F' 'I' 'B' 'H' 'P' 'L' 'K']\n",
      "\n",
      "----------------------------------------------------------------------\n",
      "\n",
      "deposit_type: \n",
      "['No Deposit' 'Refundable' 'Non Refund']\n",
      "\n",
      "----------------------------------------------------------------------\n",
      "\n",
      "customer_type: \n",
      "['Transient' 'Contract' 'Transient-Party' 'Group']\n",
      "\n",
      "----------------------------------------------------------------------\n",
      "\n",
      "reservation_status: \n",
      "['Check-Out' 'Canceled' 'No-Show']\n",
      "\n",
      "----------------------------------------------------------------------\n"
     ]
    }
   ],
   "source": [
    "# check for unique values in each categorical column\n",
    "\n",
    "print(f\"Unique values by categorical columns\\n\".upper())\n",
    "\n",
    "for cat_column in cat_columns:\n",
    "    unique_values = df[cat_column].unique()\n",
    "    print(f\"\\n{cat_column}: \\n{unique_values}\\n\")\n",
    "    print('-' * 70)"
   ]
  },
  {
   "cell_type": "markdown",
   "id": "977d8240",
   "metadata": {},
   "source": [
    "#### There is 'Undefined' in meal column. However, the category 'Undefined' corresponds to 'SC' (self catering, i.e. no meals are included), as defined in the original article. Therefore, I will replace its value with 'SC'."
   ]
  },
  {
   "cell_type": "code",
   "execution_count": 19,
   "id": "7649e7e7",
   "metadata": {},
   "outputs": [],
   "source": [
    "# replacing 'Undefined' meal with 'SC'\n",
    "\n",
    "df['meal'].replace(to_replace = 'Undefined', value = 'SC', inplace = True)"
   ]
  },
  {
   "cell_type": "markdown",
   "id": "8157d607",
   "metadata": {},
   "source": [
    "#### There is 'Undefined' in both 'market_segment' and 'distribution_channel' columns. Before imputing it with the mode, I will investigate these observations further."
   ]
  },
  {
   "cell_type": "code",
   "execution_count": 20,
   "id": "a90738f7",
   "metadata": {},
   "outputs": [
    {
     "data": {
      "text/html": [
       "<div>\n",
       "<style scoped>\n",
       "    .dataframe tbody tr th:only-of-type {\n",
       "        vertical-align: middle;\n",
       "    }\n",
       "\n",
       "    .dataframe tbody tr th {\n",
       "        vertical-align: top;\n",
       "    }\n",
       "\n",
       "    .dataframe thead th {\n",
       "        text-align: right;\n",
       "    }\n",
       "</style>\n",
       "<table border=\"1\" class=\"dataframe\">\n",
       "  <thead>\n",
       "    <tr style=\"text-align: right;\">\n",
       "      <th></th>\n",
       "      <th>hotel</th>\n",
       "      <th>is_canceled</th>\n",
       "      <th>lead_time</th>\n",
       "      <th>arrival_date_year</th>\n",
       "      <th>arrival_date_month</th>\n",
       "      <th>arrival_date_week_number</th>\n",
       "      <th>arrival_date_day_of_month</th>\n",
       "      <th>stays_in_weekend_nights</th>\n",
       "      <th>stays_in_week_nights</th>\n",
       "      <th>adults</th>\n",
       "      <th>...</th>\n",
       "      <th>assigned_room_type</th>\n",
       "      <th>booking_changes</th>\n",
       "      <th>deposit_type</th>\n",
       "      <th>days_in_waiting_list</th>\n",
       "      <th>customer_type</th>\n",
       "      <th>adr</th>\n",
       "      <th>required_car_parking_spaces</th>\n",
       "      <th>total_of_special_requests</th>\n",
       "      <th>reservation_status</th>\n",
       "      <th>reservation_status_date</th>\n",
       "    </tr>\n",
       "  </thead>\n",
       "  <tbody>\n",
       "    <tr>\n",
       "      <th>40600</th>\n",
       "      <td>City Hotel</td>\n",
       "      <td>1</td>\n",
       "      <td>2</td>\n",
       "      <td>2015</td>\n",
       "      <td>August</td>\n",
       "      <td>32</td>\n",
       "      <td>3</td>\n",
       "      <td>1</td>\n",
       "      <td>0</td>\n",
       "      <td>2</td>\n",
       "      <td>...</td>\n",
       "      <td>B</td>\n",
       "      <td>0</td>\n",
       "      <td>No Deposit</td>\n",
       "      <td>0</td>\n",
       "      <td>Transient-Party</td>\n",
       "      <td>12.0</td>\n",
       "      <td>0</td>\n",
       "      <td>1</td>\n",
       "      <td>Canceled</td>\n",
       "      <td>2015-08-01</td>\n",
       "    </tr>\n",
       "    <tr>\n",
       "      <th>40679</th>\n",
       "      <td>City Hotel</td>\n",
       "      <td>1</td>\n",
       "      <td>1</td>\n",
       "      <td>2015</td>\n",
       "      <td>August</td>\n",
       "      <td>32</td>\n",
       "      <td>5</td>\n",
       "      <td>0</td>\n",
       "      <td>2</td>\n",
       "      <td>3</td>\n",
       "      <td>...</td>\n",
       "      <td>B</td>\n",
       "      <td>0</td>\n",
       "      <td>No Deposit</td>\n",
       "      <td>0</td>\n",
       "      <td>Transient-Party</td>\n",
       "      <td>18.0</td>\n",
       "      <td>0</td>\n",
       "      <td>2</td>\n",
       "      <td>Canceled</td>\n",
       "      <td>2015-08-04</td>\n",
       "    </tr>\n",
       "  </tbody>\n",
       "</table>\n",
       "<p>2 rows × 30 columns</p>\n",
       "</div>"
      ],
      "text/plain": [
       "            hotel  is_canceled  lead_time  arrival_date_year  \\\n",
       "40600  City Hotel            1          2               2015   \n",
       "40679  City Hotel            1          1               2015   \n",
       "\n",
       "      arrival_date_month  arrival_date_week_number  arrival_date_day_of_month  \\\n",
       "40600             August                        32                          3   \n",
       "40679             August                        32                          5   \n",
       "\n",
       "       stays_in_weekend_nights  stays_in_week_nights  adults  ...  \\\n",
       "40600                        1                     0       2  ...   \n",
       "40679                        0                     2       3  ...   \n",
       "\n",
       "       assigned_room_type  booking_changes deposit_type days_in_waiting_list  \\\n",
       "40600                   B                0   No Deposit                    0   \n",
       "40679                   B                0   No Deposit                    0   \n",
       "\n",
       "         customer_type   adr  required_car_parking_spaces  \\\n",
       "40600  Transient-Party  12.0                            0   \n",
       "40679  Transient-Party  18.0                            0   \n",
       "\n",
       "       total_of_special_requests  reservation_status reservation_status_date  \n",
       "40600                          1            Canceled              2015-08-01  \n",
       "40679                          2            Canceled              2015-08-04  \n",
       "\n",
       "[2 rows x 30 columns]"
      ]
     },
     "execution_count": 20,
     "metadata": {},
     "output_type": "execute_result"
    }
   ],
   "source": [
    "df.loc[df['market_segment']=='Undefined']"
   ]
  },
  {
   "cell_type": "code",
   "execution_count": 21,
   "id": "5fa5297d",
   "metadata": {},
   "outputs": [
    {
     "data": {
      "text/html": [
       "<div>\n",
       "<style scoped>\n",
       "    .dataframe tbody tr th:only-of-type {\n",
       "        vertical-align: middle;\n",
       "    }\n",
       "\n",
       "    .dataframe tbody tr th {\n",
       "        vertical-align: top;\n",
       "    }\n",
       "\n",
       "    .dataframe thead th {\n",
       "        text-align: right;\n",
       "    }\n",
       "</style>\n",
       "<table border=\"1\" class=\"dataframe\">\n",
       "  <thead>\n",
       "    <tr style=\"text-align: right;\">\n",
       "      <th></th>\n",
       "      <th>hotel</th>\n",
       "      <th>is_canceled</th>\n",
       "      <th>lead_time</th>\n",
       "      <th>arrival_date_year</th>\n",
       "      <th>arrival_date_month</th>\n",
       "      <th>arrival_date_week_number</th>\n",
       "      <th>arrival_date_day_of_month</th>\n",
       "      <th>stays_in_weekend_nights</th>\n",
       "      <th>stays_in_week_nights</th>\n",
       "      <th>adults</th>\n",
       "      <th>...</th>\n",
       "      <th>assigned_room_type</th>\n",
       "      <th>booking_changes</th>\n",
       "      <th>deposit_type</th>\n",
       "      <th>days_in_waiting_list</th>\n",
       "      <th>customer_type</th>\n",
       "      <th>adr</th>\n",
       "      <th>required_car_parking_spaces</th>\n",
       "      <th>total_of_special_requests</th>\n",
       "      <th>reservation_status</th>\n",
       "      <th>reservation_status_date</th>\n",
       "    </tr>\n",
       "  </thead>\n",
       "  <tbody>\n",
       "    <tr>\n",
       "      <th>14594</th>\n",
       "      <td>Resort Hotel</td>\n",
       "      <td>0</td>\n",
       "      <td>103</td>\n",
       "      <td>2015</td>\n",
       "      <td>July</td>\n",
       "      <td>28</td>\n",
       "      <td>5</td>\n",
       "      <td>2</td>\n",
       "      <td>3</td>\n",
       "      <td>2</td>\n",
       "      <td>...</td>\n",
       "      <td>A</td>\n",
       "      <td>0</td>\n",
       "      <td>No Deposit</td>\n",
       "      <td>0</td>\n",
       "      <td>Transient</td>\n",
       "      <td>112.7</td>\n",
       "      <td>1</td>\n",
       "      <td>2</td>\n",
       "      <td>Check-Out</td>\n",
       "      <td>2015-07-10</td>\n",
       "    </tr>\n",
       "    <tr>\n",
       "      <th>40600</th>\n",
       "      <td>City Hotel</td>\n",
       "      <td>1</td>\n",
       "      <td>2</td>\n",
       "      <td>2015</td>\n",
       "      <td>August</td>\n",
       "      <td>32</td>\n",
       "      <td>3</td>\n",
       "      <td>1</td>\n",
       "      <td>0</td>\n",
       "      <td>2</td>\n",
       "      <td>...</td>\n",
       "      <td>B</td>\n",
       "      <td>0</td>\n",
       "      <td>No Deposit</td>\n",
       "      <td>0</td>\n",
       "      <td>Transient-Party</td>\n",
       "      <td>12.0</td>\n",
       "      <td>0</td>\n",
       "      <td>1</td>\n",
       "      <td>Canceled</td>\n",
       "      <td>2015-08-01</td>\n",
       "    </tr>\n",
       "    <tr>\n",
       "      <th>40667</th>\n",
       "      <td>City Hotel</td>\n",
       "      <td>1</td>\n",
       "      <td>1</td>\n",
       "      <td>2015</td>\n",
       "      <td>August</td>\n",
       "      <td>32</td>\n",
       "      <td>5</td>\n",
       "      <td>0</td>\n",
       "      <td>2</td>\n",
       "      <td>2</td>\n",
       "      <td>...</td>\n",
       "      <td>B</td>\n",
       "      <td>0</td>\n",
       "      <td>No Deposit</td>\n",
       "      <td>0</td>\n",
       "      <td>Transient-Party</td>\n",
       "      <td>12.0</td>\n",
       "      <td>0</td>\n",
       "      <td>1</td>\n",
       "      <td>Canceled</td>\n",
       "      <td>2015-08-04</td>\n",
       "    </tr>\n",
       "    <tr>\n",
       "      <th>40679</th>\n",
       "      <td>City Hotel</td>\n",
       "      <td>1</td>\n",
       "      <td>1</td>\n",
       "      <td>2015</td>\n",
       "      <td>August</td>\n",
       "      <td>32</td>\n",
       "      <td>5</td>\n",
       "      <td>0</td>\n",
       "      <td>2</td>\n",
       "      <td>3</td>\n",
       "      <td>...</td>\n",
       "      <td>B</td>\n",
       "      <td>0</td>\n",
       "      <td>No Deposit</td>\n",
       "      <td>0</td>\n",
       "      <td>Transient-Party</td>\n",
       "      <td>18.0</td>\n",
       "      <td>0</td>\n",
       "      <td>2</td>\n",
       "      <td>Canceled</td>\n",
       "      <td>2015-08-04</td>\n",
       "    </tr>\n",
       "    <tr>\n",
       "      <th>41160</th>\n",
       "      <td>City Hotel</td>\n",
       "      <td>1</td>\n",
       "      <td>8</td>\n",
       "      <td>2015</td>\n",
       "      <td>August</td>\n",
       "      <td>33</td>\n",
       "      <td>13</td>\n",
       "      <td>2</td>\n",
       "      <td>5</td>\n",
       "      <td>2</td>\n",
       "      <td>...</td>\n",
       "      <td>B</td>\n",
       "      <td>0</td>\n",
       "      <td>No Deposit</td>\n",
       "      <td>0</td>\n",
       "      <td>Transient-Party</td>\n",
       "      <td>76.5</td>\n",
       "      <td>0</td>\n",
       "      <td>1</td>\n",
       "      <td>Canceled</td>\n",
       "      <td>2015-08-09</td>\n",
       "    </tr>\n",
       "  </tbody>\n",
       "</table>\n",
       "<p>5 rows × 30 columns</p>\n",
       "</div>"
      ],
      "text/plain": [
       "              hotel  is_canceled  lead_time  arrival_date_year  \\\n",
       "14594  Resort Hotel            0        103               2015   \n",
       "40600    City Hotel            1          2               2015   \n",
       "40667    City Hotel            1          1               2015   \n",
       "40679    City Hotel            1          1               2015   \n",
       "41160    City Hotel            1          8               2015   \n",
       "\n",
       "      arrival_date_month  arrival_date_week_number  arrival_date_day_of_month  \\\n",
       "14594               July                        28                          5   \n",
       "40600             August                        32                          3   \n",
       "40667             August                        32                          5   \n",
       "40679             August                        32                          5   \n",
       "41160             August                        33                         13   \n",
       "\n",
       "       stays_in_weekend_nights  stays_in_week_nights  adults  ...  \\\n",
       "14594                        2                     3       2  ...   \n",
       "40600                        1                     0       2  ...   \n",
       "40667                        0                     2       2  ...   \n",
       "40679                        0                     2       3  ...   \n",
       "41160                        2                     5       2  ...   \n",
       "\n",
       "       assigned_room_type  booking_changes deposit_type days_in_waiting_list  \\\n",
       "14594                   A                0   No Deposit                    0   \n",
       "40600                   B                0   No Deposit                    0   \n",
       "40667                   B                0   No Deposit                    0   \n",
       "40679                   B                0   No Deposit                    0   \n",
       "41160                   B                0   No Deposit                    0   \n",
       "\n",
       "         customer_type    adr  required_car_parking_spaces  \\\n",
       "14594        Transient  112.7                            1   \n",
       "40600  Transient-Party   12.0                            0   \n",
       "40667  Transient-Party   12.0                            0   \n",
       "40679  Transient-Party   18.0                            0   \n",
       "41160  Transient-Party   76.5                            0   \n",
       "\n",
       "       total_of_special_requests  reservation_status reservation_status_date  \n",
       "14594                          2           Check-Out              2015-07-10  \n",
       "40600                          1            Canceled              2015-08-01  \n",
       "40667                          1            Canceled              2015-08-04  \n",
       "40679                          2            Canceled              2015-08-04  \n",
       "41160                          1            Canceled              2015-08-09  \n",
       "\n",
       "[5 rows x 30 columns]"
      ]
     },
     "execution_count": 21,
     "metadata": {},
     "output_type": "execute_result"
    }
   ],
   "source": [
    "df.loc[df['distribution_channel']=='Undefined']"
   ]
  },
  {
   "cell_type": "markdown",
   "id": "93d7f524",
   "metadata": {},
   "source": [
    "#### There are very few rows with 'Undefined' in both variables. I will impute these with the mode. "
   ]
  },
  {
   "cell_type": "code",
   "execution_count": 22,
   "id": "80792824",
   "metadata": {},
   "outputs": [],
   "source": [
    "df['market_segment'] = np.where(df['market_segment']=='Undefined', df['market_segment'].mode(), df['market_segment'])"
   ]
  },
  {
   "cell_type": "code",
   "execution_count": 23,
   "id": "0db513e4",
   "metadata": {},
   "outputs": [],
   "source": [
    "df['distribution_channel'] = np.where(df['distribution_channel']=='Undefined',\n",
    "                                      df['distribution_channel'].mode(), df['distribution_channel'])"
   ]
  },
  {
   "cell_type": "markdown",
   "id": "41c0e761",
   "metadata": {},
   "source": [
    "### creating a new column 'kids' by combining 'children' and 'babies'"
   ]
  },
  {
   "cell_type": "code",
   "execution_count": 24,
   "id": "3189347c",
   "metadata": {},
   "outputs": [],
   "source": [
    "df['kids'] = df['babies'] + df['children']"
   ]
  },
  {
   "cell_type": "code",
   "execution_count": 25,
   "id": "acbe873f",
   "metadata": {},
   "outputs": [],
   "source": [
    "df.drop(['babies', 'children'], axis=1, inplace=True)"
   ]
  },
  {
   "cell_type": "code",
   "execution_count": 26,
   "id": "1a58f878",
   "metadata": {},
   "outputs": [
    {
     "data": {
      "text/html": [
       "<div>\n",
       "<style scoped>\n",
       "    .dataframe tbody tr th:only-of-type {\n",
       "        vertical-align: middle;\n",
       "    }\n",
       "\n",
       "    .dataframe tbody tr th {\n",
       "        vertical-align: top;\n",
       "    }\n",
       "\n",
       "    .dataframe thead th {\n",
       "        text-align: right;\n",
       "    }\n",
       "</style>\n",
       "<table border=\"1\" class=\"dataframe\">\n",
       "  <thead>\n",
       "    <tr style=\"text-align: right;\">\n",
       "      <th></th>\n",
       "      <th>is_canceled</th>\n",
       "      <th>lead_time</th>\n",
       "      <th>arrival_date_year</th>\n",
       "      <th>arrival_date_week_number</th>\n",
       "      <th>arrival_date_day_of_month</th>\n",
       "      <th>stays_in_weekend_nights</th>\n",
       "      <th>stays_in_week_nights</th>\n",
       "      <th>adults</th>\n",
       "      <th>is_repeated_guest</th>\n",
       "      <th>previous_cancellations</th>\n",
       "      <th>previous_bookings_not_canceled</th>\n",
       "      <th>booking_changes</th>\n",
       "      <th>days_in_waiting_list</th>\n",
       "      <th>adr</th>\n",
       "      <th>required_car_parking_spaces</th>\n",
       "      <th>total_of_special_requests</th>\n",
       "      <th>kids</th>\n",
       "    </tr>\n",
       "  </thead>\n",
       "  <tbody>\n",
       "    <tr>\n",
       "      <th>count</th>\n",
       "      <td>119390.000000</td>\n",
       "      <td>119390.000000</td>\n",
       "      <td>119390.000000</td>\n",
       "      <td>119390.000000</td>\n",
       "      <td>119390.000000</td>\n",
       "      <td>119390.000000</td>\n",
       "      <td>119390.000000</td>\n",
       "      <td>119390.000000</td>\n",
       "      <td>119390.000000</td>\n",
       "      <td>119390.000000</td>\n",
       "      <td>119390.000000</td>\n",
       "      <td>119390.000000</td>\n",
       "      <td>119390.000000</td>\n",
       "      <td>119390.000000</td>\n",
       "      <td>119390.000000</td>\n",
       "      <td>119390.000000</td>\n",
       "      <td>119390.000000</td>\n",
       "    </tr>\n",
       "    <tr>\n",
       "      <th>mean</th>\n",
       "      <td>0.370416</td>\n",
       "      <td>104.011416</td>\n",
       "      <td>2016.156554</td>\n",
       "      <td>27.165173</td>\n",
       "      <td>15.798241</td>\n",
       "      <td>0.927599</td>\n",
       "      <td>2.500302</td>\n",
       "      <td>1.856403</td>\n",
       "      <td>0.031912</td>\n",
       "      <td>0.087118</td>\n",
       "      <td>0.137097</td>\n",
       "      <td>0.221124</td>\n",
       "      <td>2.321149</td>\n",
       "      <td>101.831122</td>\n",
       "      <td>0.062518</td>\n",
       "      <td>0.571363</td>\n",
       "      <td>0.111835</td>\n",
       "    </tr>\n",
       "    <tr>\n",
       "      <th>std</th>\n",
       "      <td>0.482918</td>\n",
       "      <td>106.863097</td>\n",
       "      <td>0.707476</td>\n",
       "      <td>13.605138</td>\n",
       "      <td>8.780829</td>\n",
       "      <td>0.998613</td>\n",
       "      <td>1.908286</td>\n",
       "      <td>0.579261</td>\n",
       "      <td>0.175767</td>\n",
       "      <td>0.844336</td>\n",
       "      <td>1.497437</td>\n",
       "      <td>0.652306</td>\n",
       "      <td>17.594721</td>\n",
       "      <td>50.535790</td>\n",
       "      <td>0.245291</td>\n",
       "      <td>0.792798</td>\n",
       "      <td>0.412561</td>\n",
       "    </tr>\n",
       "    <tr>\n",
       "      <th>min</th>\n",
       "      <td>0.000000</td>\n",
       "      <td>0.000000</td>\n",
       "      <td>2015.000000</td>\n",
       "      <td>1.000000</td>\n",
       "      <td>1.000000</td>\n",
       "      <td>0.000000</td>\n",
       "      <td>0.000000</td>\n",
       "      <td>0.000000</td>\n",
       "      <td>0.000000</td>\n",
       "      <td>0.000000</td>\n",
       "      <td>0.000000</td>\n",
       "      <td>0.000000</td>\n",
       "      <td>0.000000</td>\n",
       "      <td>-6.380000</td>\n",
       "      <td>0.000000</td>\n",
       "      <td>0.000000</td>\n",
       "      <td>0.000000</td>\n",
       "    </tr>\n",
       "    <tr>\n",
       "      <th>25%</th>\n",
       "      <td>0.000000</td>\n",
       "      <td>18.000000</td>\n",
       "      <td>2016.000000</td>\n",
       "      <td>16.000000</td>\n",
       "      <td>8.000000</td>\n",
       "      <td>0.000000</td>\n",
       "      <td>1.000000</td>\n",
       "      <td>2.000000</td>\n",
       "      <td>0.000000</td>\n",
       "      <td>0.000000</td>\n",
       "      <td>0.000000</td>\n",
       "      <td>0.000000</td>\n",
       "      <td>0.000000</td>\n",
       "      <td>69.290000</td>\n",
       "      <td>0.000000</td>\n",
       "      <td>0.000000</td>\n",
       "      <td>0.000000</td>\n",
       "    </tr>\n",
       "    <tr>\n",
       "      <th>50%</th>\n",
       "      <td>0.000000</td>\n",
       "      <td>69.000000</td>\n",
       "      <td>2016.000000</td>\n",
       "      <td>28.000000</td>\n",
       "      <td>16.000000</td>\n",
       "      <td>1.000000</td>\n",
       "      <td>2.000000</td>\n",
       "      <td>2.000000</td>\n",
       "      <td>0.000000</td>\n",
       "      <td>0.000000</td>\n",
       "      <td>0.000000</td>\n",
       "      <td>0.000000</td>\n",
       "      <td>0.000000</td>\n",
       "      <td>94.575000</td>\n",
       "      <td>0.000000</td>\n",
       "      <td>0.000000</td>\n",
       "      <td>0.000000</td>\n",
       "    </tr>\n",
       "    <tr>\n",
       "      <th>75%</th>\n",
       "      <td>1.000000</td>\n",
       "      <td>160.000000</td>\n",
       "      <td>2017.000000</td>\n",
       "      <td>38.000000</td>\n",
       "      <td>23.000000</td>\n",
       "      <td>2.000000</td>\n",
       "      <td>3.000000</td>\n",
       "      <td>2.000000</td>\n",
       "      <td>0.000000</td>\n",
       "      <td>0.000000</td>\n",
       "      <td>0.000000</td>\n",
       "      <td>0.000000</td>\n",
       "      <td>0.000000</td>\n",
       "      <td>126.000000</td>\n",
       "      <td>0.000000</td>\n",
       "      <td>1.000000</td>\n",
       "      <td>0.000000</td>\n",
       "    </tr>\n",
       "    <tr>\n",
       "      <th>max</th>\n",
       "      <td>1.000000</td>\n",
       "      <td>737.000000</td>\n",
       "      <td>2017.000000</td>\n",
       "      <td>53.000000</td>\n",
       "      <td>31.000000</td>\n",
       "      <td>19.000000</td>\n",
       "      <td>50.000000</td>\n",
       "      <td>55.000000</td>\n",
       "      <td>1.000000</td>\n",
       "      <td>26.000000</td>\n",
       "      <td>72.000000</td>\n",
       "      <td>21.000000</td>\n",
       "      <td>391.000000</td>\n",
       "      <td>5400.000000</td>\n",
       "      <td>8.000000</td>\n",
       "      <td>5.000000</td>\n",
       "      <td>10.000000</td>\n",
       "    </tr>\n",
       "  </tbody>\n",
       "</table>\n",
       "</div>"
      ],
      "text/plain": [
       "         is_canceled      lead_time  arrival_date_year  \\\n",
       "count  119390.000000  119390.000000      119390.000000   \n",
       "mean        0.370416     104.011416        2016.156554   \n",
       "std         0.482918     106.863097           0.707476   \n",
       "min         0.000000       0.000000        2015.000000   \n",
       "25%         0.000000      18.000000        2016.000000   \n",
       "50%         0.000000      69.000000        2016.000000   \n",
       "75%         1.000000     160.000000        2017.000000   \n",
       "max         1.000000     737.000000        2017.000000   \n",
       "\n",
       "       arrival_date_week_number  arrival_date_day_of_month  \\\n",
       "count             119390.000000              119390.000000   \n",
       "mean                  27.165173                  15.798241   \n",
       "std                   13.605138                   8.780829   \n",
       "min                    1.000000                   1.000000   \n",
       "25%                   16.000000                   8.000000   \n",
       "50%                   28.000000                  16.000000   \n",
       "75%                   38.000000                  23.000000   \n",
       "max                   53.000000                  31.000000   \n",
       "\n",
       "       stays_in_weekend_nights  stays_in_week_nights         adults  \\\n",
       "count            119390.000000         119390.000000  119390.000000   \n",
       "mean                  0.927599              2.500302       1.856403   \n",
       "std                   0.998613              1.908286       0.579261   \n",
       "min                   0.000000              0.000000       0.000000   \n",
       "25%                   0.000000              1.000000       2.000000   \n",
       "50%                   1.000000              2.000000       2.000000   \n",
       "75%                   2.000000              3.000000       2.000000   \n",
       "max                  19.000000             50.000000      55.000000   \n",
       "\n",
       "       is_repeated_guest  previous_cancellations  \\\n",
       "count      119390.000000           119390.000000   \n",
       "mean            0.031912                0.087118   \n",
       "std             0.175767                0.844336   \n",
       "min             0.000000                0.000000   \n",
       "25%             0.000000                0.000000   \n",
       "50%             0.000000                0.000000   \n",
       "75%             0.000000                0.000000   \n",
       "max             1.000000               26.000000   \n",
       "\n",
       "       previous_bookings_not_canceled  booking_changes  days_in_waiting_list  \\\n",
       "count                   119390.000000    119390.000000         119390.000000   \n",
       "mean                         0.137097         0.221124              2.321149   \n",
       "std                          1.497437         0.652306             17.594721   \n",
       "min                          0.000000         0.000000              0.000000   \n",
       "25%                          0.000000         0.000000              0.000000   \n",
       "50%                          0.000000         0.000000              0.000000   \n",
       "75%                          0.000000         0.000000              0.000000   \n",
       "max                         72.000000        21.000000            391.000000   \n",
       "\n",
       "                 adr  required_car_parking_spaces  total_of_special_requests  \\\n",
       "count  119390.000000                119390.000000              119390.000000   \n",
       "mean      101.831122                     0.062518                   0.571363   \n",
       "std        50.535790                     0.245291                   0.792798   \n",
       "min        -6.380000                     0.000000                   0.000000   \n",
       "25%        69.290000                     0.000000                   0.000000   \n",
       "50%        94.575000                     0.000000                   0.000000   \n",
       "75%       126.000000                     0.000000                   1.000000   \n",
       "max      5400.000000                     8.000000                   5.000000   \n",
       "\n",
       "                kids  \n",
       "count  119390.000000  \n",
       "mean        0.111835  \n",
       "std         0.412561  \n",
       "min         0.000000  \n",
       "25%         0.000000  \n",
       "50%         0.000000  \n",
       "75%         0.000000  \n",
       "max        10.000000  "
      ]
     },
     "execution_count": 26,
     "metadata": {},
     "output_type": "execute_result"
    }
   ],
   "source": [
    "# check basic stats of numerical data for any outliers\n",
    "\n",
    "df.describe()"
   ]
  },
  {
   "cell_type": "markdown",
   "id": "6084568a",
   "metadata": {},
   "source": [
    "#### Stats for quite a few variable seem odd and suspicious. I will investigate these further by using box plots and histograms to visualize the distribution of data and detect outliers."
   ]
  },
  {
   "cell_type": "markdown",
   "id": "1c8bdeac",
   "metadata": {},
   "source": [
    "### Univariate Analysis"
   ]
  },
  {
   "cell_type": "markdown",
   "id": "407649ac",
   "metadata": {},
   "source": [
    "#### 'lead_time'"
   ]
  },
  {
   "cell_type": "code",
   "execution_count": 27,
   "id": "e5f5db10",
   "metadata": {},
   "outputs": [
    {
     "data": {
      "text/plain": [
       "<AxesSubplot:xlabel='lead_time', ylabel='Count'>"
      ]
     },
     "execution_count": 27,
     "metadata": {},
     "output_type": "execute_result"
    },
    {
     "data": {
      "image/png": "[encoded data removed]",
      "text/plain": [
       "<Figure size 640x480 with 1 Axes>"
      ]
     },
     "metadata": {},
     "output_type": "display_data"
    }
   ],
   "source": [
    "# histogram\n",
    "\n",
    "sns.histplot(df['lead_time'], bins = 20, kde = True)"
   ]
  },
  {
   "cell_type": "code",
   "execution_count": 28,
   "id": "49e9b3ce",
   "metadata": {},
   "outputs": [
    {
     "data": {
      "text/plain": [
       "<AxesSubplot:xlabel='lead_time'>"
      ]
     },
     "execution_count": 28,
     "metadata": {},
     "output_type": "execute_result"
    },
    {
     "data": {
      "image/png": "[encoded data removed]",
      "text/plain": [
       "<Figure size 640x480 with 1 Axes>"
      ]
     },
     "metadata": {},
     "output_type": "display_data"
    }
   ],
   "source": [
    "# boxplot\n",
    "\n",
    "sns.boxplot(x = \"lead_time\", data = df)"
   ]
  },
  {
   "cell_type": "markdown",
   "id": "4ec45257",
   "metadata": {},
   "source": [
    "##### The distribution is skewed to the right. There are values towards the end of the long tail which don’t occur often. These could be potential outliers. The data starts to become more dispersed starting at the value of 600, approximately. Will impute these values with the median."
   ]
  },
  {
   "cell_type": "code",
   "execution_count": 29,
   "id": "2ebfe653",
   "metadata": {},
   "outputs": [],
   "source": [
    "# impute outliers with median\n",
    "\n",
    "df['lead_time'] = np.where(df['lead_time'] > 600, df['lead_time'].median(), df['lead_time'])"
   ]
  },
  {
   "cell_type": "markdown",
   "id": "3bc095d8",
   "metadata": {},
   "source": [
    "#### 'stays_in_weekend_nights'"
   ]
  },
  {
   "cell_type": "code",
   "execution_count": 30,
   "id": "fb125608",
   "metadata": {},
   "outputs": [
    {
     "data": {
      "text/plain": [
       "<AxesSubplot:xlabel='stays_in_weekend_nights', ylabel='Count'>"
      ]
     },
     "execution_count": 30,
     "metadata": {},
     "output_type": "execute_result"
    },
    {
     "data": {
      "image/png": "[encoded data removed]",
      "text/plain": [
       "<Figure size 640x480 with 1 Axes>"
      ]
     },
     "metadata": {},
     "output_type": "display_data"
    }
   ],
   "source": [
    "# histogram\n",
    "\n",
    "sns.histplot(df['stays_in_weekend_nights'], bins = 20, kde = True)"
   ]
  },
  {
   "cell_type": "code",
   "execution_count": 31,
   "id": "44bb21a3",
   "metadata": {},
   "outputs": [
    {
     "data": {
      "text/plain": [
       "<AxesSubplot:xlabel='stays_in_weekend_nights'>"
      ]
     },
     "execution_count": 31,
     "metadata": {},
     "output_type": "execute_result"
    },
    {
     "data": {
      "image/png": "[encoded data removed]",
      "text/plain": [
       "<Figure size 640x480 with 1 Axes>"
      ]
     },
     "metadata": {},
     "output_type": "display_data"
    }
   ],
   "source": [
    "# boxplot\n",
    "\n",
    "sns.boxplot(x = 'stays_in_weekend_nights', data = df)"
   ]
  },
  {
   "cell_type": "markdown",
   "id": "8b1db0ec",
   "metadata": {},
   "source": [
    "##### 'stays_in_weekend_nights' column starts to show more dispersed data at 6\n",
    "##### Will impute the outliers with the median."
   ]
  },
  {
   "cell_type": "code",
   "execution_count": 32,
   "id": "2f3d5aba",
   "metadata": {},
   "outputs": [],
   "source": [
    "# impute outliers with median\n",
    "\n",
    "df['stays_in_weekend_nights'] = np.where(df['stays_in_weekend_nights'] > 6,\n",
    "                                         df['stays_in_weekend_nights'].median(), df['stays_in_weekend_nights'])"
   ]
  },
  {
   "cell_type": "markdown",
   "id": "a6add894",
   "metadata": {},
   "source": [
    "#### 'stays_in_week_nights'"
   ]
  },
  {
   "cell_type": "code",
   "execution_count": 33,
   "id": "afe3cba3",
   "metadata": {},
   "outputs": [
    {
     "data": {
      "text/plain": [
       "<AxesSubplot:xlabel='stays_in_week_nights', ylabel='Count'>"
      ]
     },
     "execution_count": 33,
     "metadata": {},
     "output_type": "execute_result"
    },
    {
     "data": {
      "image/png": "[encoded data removed]",
      "text/plain": [
       "<Figure size 640x480 with 1 Axes>"
      ]
     },
     "metadata": {},
     "output_type": "display_data"
    }
   ],
   "source": [
    "# histogram\n",
    "\n",
    "sns.histplot(df['stays_in_week_nights'], bins = 20, kde = True)"
   ]
  },
  {
   "cell_type": "code",
   "execution_count": 34,
   "id": "f743893b",
   "metadata": {},
   "outputs": [
    {
     "data": {
      "text/plain": [
       "<AxesSubplot:xlabel='stays_in_week_nights'>"
      ]
     },
     "execution_count": 34,
     "metadata": {},
     "output_type": "execute_result"
    },
    {
     "data": {
      "image/png": "[encoded data removed]",
      "text/plain": [
       "<Figure size 640x480 with 1 Axes>"
      ]
     },
     "metadata": {},
     "output_type": "display_data"
    }
   ],
   "source": [
    "# boxplot\n",
    "\n",
    "sns.boxplot(x = 'stays_in_week_nights', data = df)"
   ]
  },
  {
   "cell_type": "markdown",
   "id": "921efb24",
   "metadata": {},
   "source": [
    "##### 'stays_in_week_nights' column has many high outliers, but these values become scattered after 10\n",
    "##### Will impute the outliers with the median."
   ]
  },
  {
   "cell_type": "code",
   "execution_count": 35,
   "id": "829dfe9f",
   "metadata": {},
   "outputs": [],
   "source": [
    "# impute outliers with median\n",
    "\n",
    "df['stays_in_week_nights'] = np.where(df['stays_in_week_nights'] > 10,\n",
    "                                         df['stays_in_week_nights'].median(), df['stays_in_week_nights'])"
   ]
  },
  {
   "cell_type": "markdown",
   "id": "4e268dda",
   "metadata": {},
   "source": [
    "#### 'adults'"
   ]
  },
  {
   "cell_type": "code",
   "execution_count": 36,
   "id": "2c4c11fe",
   "metadata": {},
   "outputs": [
    {
     "data": {
      "text/plain": [
       "<AxesSubplot:xlabel='adults', ylabel='Count'>"
      ]
     },
     "execution_count": 36,
     "metadata": {},
     "output_type": "execute_result"
    },
    {
     "data": {
      "image/png": "[encoded data removed]",
      "text/plain": [
       "<Figure size 640x480 with 1 Axes>"
      ]
     },
     "metadata": {},
     "output_type": "display_data"
    }
   ],
   "source": [
    "# histogram\n",
    "\n",
    "sns.histplot(df['adults'], bins = 30, kde = True)"
   ]
  },
  {
   "cell_type": "code",
   "execution_count": 37,
   "id": "9d31625f",
   "metadata": {},
   "outputs": [
    {
     "data": {
      "text/plain": [
       "<AxesSubplot:xlabel='adults'>"
      ]
     },
     "execution_count": 37,
     "metadata": {},
     "output_type": "execute_result"
    },
    {
     "data": {
      "image/png": "[encoded data removed]",
      "text/plain": [
       "<Figure size 640x480 with 1 Axes>"
      ]
     },
     "metadata": {},
     "output_type": "display_data"
    }
   ],
   "source": [
    "# boxplot\n",
    "\n",
    "sns.boxplot(x = \"adults\", data = df)"
   ]
  },
  {
   "cell_type": "markdown",
   "id": "68589656",
   "metadata": {},
   "source": [
    "##### The data for 'adults' is concentrated between 1 and 4, being unusual any reservation that exceeds this number. The minimum value is 0 adults, which is not possible since there must be a minimum of 1 adult per reservation. Since this appears to be a result of errors in the measurement, I will eliminate wherever adults = 0\n",
    "##### For adults > 4, I will impute with the median since these high outlier values do not come across as errors, but extreme or rare values that are still within the range of possibility."
   ]
  },
  {
   "cell_type": "code",
   "execution_count": 38,
   "id": "f8c8b3d6",
   "metadata": {},
   "outputs": [],
   "source": [
    "df.drop(df[df['adults'] == 0].index, inplace = True)"
   ]
  },
  {
   "cell_type": "code",
   "execution_count": 39,
   "id": "add75aa8",
   "metadata": {},
   "outputs": [],
   "source": [
    "# impute outliers with median\n",
    "\n",
    "df['adults'] = np.where((df['adults'] > 4) , df['adults'].median(), df['adults'])"
   ]
  },
  {
   "cell_type": "markdown",
   "id": "95b9eb50",
   "metadata": {},
   "source": [
    "#### 'kids'"
   ]
  },
  {
   "cell_type": "code",
   "execution_count": 40,
   "id": "65140e01",
   "metadata": {},
   "outputs": [
    {
     "data": {
      "text/plain": [
       "<AxesSubplot:xlabel='kids', ylabel='Count'>"
      ]
     },
     "execution_count": 40,
     "metadata": {},
     "output_type": "execute_result"
    },
    {
     "data": {
      "image/png": "[encoded data removed]",
      "text/plain": [
       "<Figure size 640x480 with 1 Axes>"
      ]
     },
     "metadata": {},
     "output_type": "display_data"
    }
   ],
   "source": [
    "# histogram\n",
    "\n",
    "sns.histplot(df['kids'], bins = 20, kde = True)"
   ]
  },
  {
   "cell_type": "code",
   "execution_count": 41,
   "id": "668da18a",
   "metadata": {},
   "outputs": [
    {
     "data": {
      "text/plain": [
       "<AxesSubplot:xlabel='kids'>"
      ]
     },
     "execution_count": 41,
     "metadata": {},
     "output_type": "execute_result"
    },
    {
     "data": {
      "image/png": "[encoded data removed]",
      "text/plain": [
       "<Figure size 640x480 with 1 Axes>"
      ]
     },
     "metadata": {},
     "output_type": "display_data"
    }
   ],
   "source": [
    "# boxplot\n",
    "\n",
    "sns.boxplot(x = 'kids', data = df)"
   ]
  },
  {
   "cell_type": "markdown",
   "id": "fba40ac0",
   "metadata": {},
   "source": [
    "##### There are very high values such as 9 and 10 with extremely low occurrences\n",
    "##### Impute these outliers with median"
   ]
  },
  {
   "cell_type": "code",
   "execution_count": 42,
   "id": "68a42f87",
   "metadata": {},
   "outputs": [],
   "source": [
    "# impute outliers with median\n",
    "\n",
    "df['kids'] = np.where((df['kids'] > 3) , df['kids'].median(), df['kids'])"
   ]
  },
  {
   "cell_type": "markdown",
   "id": "5fa57562",
   "metadata": {},
   "source": [
    "#### 'previous_cancellations'"
   ]
  },
  {
   "cell_type": "code",
   "execution_count": 43,
   "id": "8ecfd1f5",
   "metadata": {},
   "outputs": [
    {
     "data": {
      "text/plain": [
       "<AxesSubplot:xlabel='previous_cancellations', ylabel='Count'>"
      ]
     },
     "execution_count": 43,
     "metadata": {},
     "output_type": "execute_result"
    },
    {
     "data": {
      "image/png": "[encoded data removed]",
      "text/plain": [
       "<Figure size 640x480 with 1 Axes>"
      ]
     },
     "metadata": {},
     "output_type": "display_data"
    }
   ],
   "source": [
    "# histogram\n",
    "\n",
    "sns.histplot(df['previous_cancellations'], bins = 20, kde = True)"
   ]
  },
  {
   "cell_type": "code",
   "execution_count": 44,
   "id": "9b90dc10",
   "metadata": {},
   "outputs": [
    {
     "data": {
      "text/plain": [
       "<AxesSubplot:xlabel='previous_cancellations'>"
      ]
     },
     "execution_count": 44,
     "metadata": {},
     "output_type": "execute_result"
    },
    {
     "data": {
      "image/png": "[encoded data removed]",
      "text/plain": [
       "<Figure size 640x480 with 1 Axes>"
      ]
     },
     "metadata": {},
     "output_type": "display_data"
    }
   ],
   "source": [
    "# boxplot\n",
    "\n",
    "sns.boxplot(x = 'previous_cancellations', data = df)"
   ]
  },
  {
   "cell_type": "markdown",
   "id": "1c731d3a",
   "metadata": {},
   "source": [
    "##### 'previous_cancellations' column refers to the number of previous bookings that were cancelled by the customer prior to the current booking.\n",
    "##### From the above two plots, this variable reaches very high values. For example, there are few cases where a guest made more than 20 cancellations prior to the current booking. But these are only a few instances as 98% of the data for the variable shows 0 cancellations.\n",
    "\n",
    "##### I have therefore decided to convert it into a categorical variable, where 0 means that the guest did not cancel a reservation at the hotel prior to the current reservation and 1 means that it did occur, at least once."
   ]
  },
  {
   "cell_type": "code",
   "execution_count": 45,
   "id": "429d500f",
   "metadata": {},
   "outputs": [],
   "source": [
    "# impute outliers and change into categorical variable\n",
    "\n",
    "df.loc[df['previous_cancellations'] > 0, ['previous_cancellations']] = 1"
   ]
  },
  {
   "cell_type": "markdown",
   "id": "2bc3318e",
   "metadata": {},
   "source": [
    "#### 'previous_bookings_not_canceled'"
   ]
  },
  {
   "cell_type": "code",
   "execution_count": 46,
   "id": "e0ee2b30",
   "metadata": {},
   "outputs": [
    {
     "data": {
      "text/plain": [
       "<AxesSubplot:xlabel='previous_bookings_not_canceled', ylabel='Count'>"
      ]
     },
     "execution_count": 46,
     "metadata": {},
     "output_type": "execute_result"
    },
    {
     "data": {
      "image/png": "[encoded data removed]",
      "text/plain": [
       "<Figure size 640x480 with 1 Axes>"
      ]
     },
     "metadata": {},
     "output_type": "display_data"
    }
   ],
   "source": [
    "# histogram\n",
    "\n",
    "sns.histplot(df['previous_bookings_not_canceled'], bins = 20, kde = True)"
   ]
  },
  {
   "cell_type": "code",
   "execution_count": 47,
   "id": "fe016c86",
   "metadata": {},
   "outputs": [
    {
     "data": {
      "text/plain": [
       "<AxesSubplot:xlabel='previous_bookings_not_canceled'>"
      ]
     },
     "execution_count": 47,
     "metadata": {},
     "output_type": "execute_result"
    },
    {
     "data": {
      "image/png": "[encoded data removed]",
      "text/plain": [
       "<Figure size 640x480 with 1 Axes>"
      ]
     },
     "metadata": {},
     "output_type": "display_data"
    }
   ],
   "source": [
    "# boxplot\n",
    "\n",
    "sns.boxplot(x = 'previous_bookings_not_canceled', data = df)"
   ]
  },
  {
   "cell_type": "markdown",
   "id": "744fb2c1",
   "metadata": {},
   "source": [
    "##### 'previous_bookings_not_canceled' column refers to the number of previous bookings not cancelled by the customer prior to the current booking.\n",
    "##### Similar to 'previous_cancellations', this variable reaches very high values. However, 96% of the data for the variable has a value of 0.\n",
    "\n",
    "##### I have therefore decided to convert it into a categorical variable, where 0 means that the guest cancelled a reservation at the hotel prior to the current reservation and 1 means that it was not cancelled."
   ]
  },
  {
   "cell_type": "code",
   "execution_count": 48,
   "id": "138c84bf",
   "metadata": {},
   "outputs": [],
   "source": [
    "# impute outliers and change into categorical variable\n",
    "\n",
    "df.loc[df['previous_bookings_not_canceled'] > 0, ['previous_bookings_not_canceled']] = 1"
   ]
  },
  {
   "cell_type": "markdown",
   "id": "fdd2ad7a",
   "metadata": {},
   "source": [
    "#### 'booking_changes'"
   ]
  },
  {
   "cell_type": "code",
   "execution_count": 49,
   "id": "404ce752",
   "metadata": {},
   "outputs": [
    {
     "data": {
      "text/plain": [
       "<AxesSubplot:xlabel='booking_changes', ylabel='Count'>"
      ]
     },
     "execution_count": 49,
     "metadata": {},
     "output_type": "execute_result"
    },
    {
     "data": {
      "image/png": "[encoded data removed]",
      "text/plain": [
       "<Figure size 640x480 with 1 Axes>"
      ]
     },
     "metadata": {},
     "output_type": "display_data"
    }
   ],
   "source": [
    "# histogram\n",
    "\n",
    "sns.histplot(df['booking_changes'], bins = 20, kde = True)"
   ]
  },
  {
   "cell_type": "code",
   "execution_count": 50,
   "id": "d58a61a8",
   "metadata": {},
   "outputs": [
    {
     "data": {
      "text/plain": [
       "<AxesSubplot:xlabel='booking_changes'>"
      ]
     },
     "execution_count": 50,
     "metadata": {},
     "output_type": "execute_result"
    },
    {
     "data": {
      "image/png": "[encoded data removed]",
      "text/plain": [
       "<Figure size 640x480 with 1 Axes>"
      ]
     },
     "metadata": {},
     "output_type": "display_data"
    }
   ],
   "source": [
    "# boxplot\n",
    "\n",
    "sns.boxplot(x = 'booking_changes', data = df)"
   ]
  },
  {
   "cell_type": "markdown",
   "id": "f21c8037",
   "metadata": {},
   "source": [
    "##### Seeing the distribution in the above two plots, it appears to be extremely unusual for a booking to have more than 5 changes. There is only 1% data comprising to booking changes for over 5.\n",
    "##### Will impute the outliers with the median."
   ]
  },
  {
   "cell_type": "code",
   "execution_count": 51,
   "id": "e5e7bc36",
   "metadata": {},
   "outputs": [],
   "source": [
    "# impute outliers with median\n",
    "\n",
    "df['booking_changes'] = np.where((df['booking_changes'] > 5) , df['booking_changes'].median(), df['booking_changes'])"
   ]
  },
  {
   "cell_type": "markdown",
   "id": "e57d9592",
   "metadata": {},
   "source": [
    "#### 'days_in_waiting_list'"
   ]
  },
  {
   "cell_type": "code",
   "execution_count": 52,
   "id": "df3e9b07",
   "metadata": {},
   "outputs": [
    {
     "data": {
      "text/plain": [
       "<AxesSubplot:xlabel='days_in_waiting_list', ylabel='Count'>"
      ]
     },
     "execution_count": 52,
     "metadata": {},
     "output_type": "execute_result"
    },
    {
     "data": {
      "image/png": "[encoded data removed]",
      "text/plain": [
       "<Figure size 640x480 with 1 Axes>"
      ]
     },
     "metadata": {},
     "output_type": "display_data"
    }
   ],
   "source": [
    "# histogram\n",
    "\n",
    "sns.histplot(df['days_in_waiting_list'], bins = 20, kde = True)"
   ]
  },
  {
   "cell_type": "code",
   "execution_count": 53,
   "id": "8ef8bc6a",
   "metadata": {},
   "outputs": [
    {
     "data": {
      "text/plain": [
       "<AxesSubplot:xlabel='days_in_waiting_list'>"
      ]
     },
     "execution_count": 53,
     "metadata": {},
     "output_type": "execute_result"
    },
    {
     "data": {
      "image/png": "[encoded data removed]",
      "text/plain": [
       "<Figure size 640x480 with 1 Axes>"
      ]
     },
     "metadata": {},
     "output_type": "display_data"
    }
   ],
   "source": [
    "# boxplot\n",
    "\n",
    "sns.boxplot(x = 'days_in_waiting_list', data = df)"
   ]
  },
  {
   "cell_type": "markdown",
   "id": "7b57c1f4",
   "metadata": {},
   "source": [
    "##### 'days_in_waiting_list' columns refers to the number of days the booking was in the waiting list before it was confirmed to the customer.\n",
    "##### From the above two plots, the data is very sparse, being unusual for a reservation to have a waiting period of more than 1 day, practically.\n",
    "##### Will impute the outliers with a value of 1."
   ]
  },
  {
   "cell_type": "code",
   "execution_count": 54,
   "id": "7ff4639b",
   "metadata": {},
   "outputs": [],
   "source": [
    "# impute outliers\n",
    "\n",
    "df.loc[df['days_in_waiting_list'] > 0,  ['days_in_waiting_list']] = 1"
   ]
  },
  {
   "cell_type": "markdown",
   "id": "77857b49",
   "metadata": {},
   "source": [
    "#### 'adr'"
   ]
  },
  {
   "cell_type": "code",
   "execution_count": 55,
   "id": "3d1368ae",
   "metadata": {},
   "outputs": [
    {
     "data": {
      "text/plain": [
       "<AxesSubplot:xlabel='adr', ylabel='Count'>"
      ]
     },
     "execution_count": 55,
     "metadata": {},
     "output_type": "execute_result"
    },
    {
     "data": {
      "image/png": "[encoded data removed]",
      "text/plain": [
       "<Figure size 640x480 with 1 Axes>"
      ]
     },
     "metadata": {},
     "output_type": "display_data"
    }
   ],
   "source": [
    "# histogram\n",
    "\n",
    "sns.histplot(df['adr'], bins = 20, kde = True)"
   ]
  },
  {
   "cell_type": "code",
   "execution_count": 56,
   "id": "d8af65ab",
   "metadata": {},
   "outputs": [
    {
     "data": {
      "text/plain": [
       "<AxesSubplot:xlabel='adr'>"
      ]
     },
     "execution_count": 56,
     "metadata": {},
     "output_type": "execute_result"
    },
    {
     "data": {
      "image/png": "[encoded data removed]",
      "text/plain": [
       "<Figure size 640x480 with 1 Axes>"
      ]
     },
     "metadata": {},
     "output_type": "display_data"
    }
   ],
   "source": [
    "# boxplot\n",
    "\n",
    "sns.boxplot(x = 'adr', data = df)"
   ]
  },
  {
   "cell_type": "markdown",
   "id": "abe36285",
   "metadata": {},
   "source": [
    "##### 'adr' value cannot be negative. There is another value of 5400 which is extremely high when compared to the mean of 102. Since this could be an error, it would be better to remove it."
   ]
  },
  {
   "cell_type": "code",
   "execution_count": 57,
   "id": "7bcf7f6f",
   "metadata": {},
   "outputs": [],
   "source": [
    "df.drop(df[df['adr'] == 5400].index, inplace = True)"
   ]
  },
  {
   "cell_type": "code",
   "execution_count": 58,
   "id": "fc27945a",
   "metadata": {},
   "outputs": [],
   "source": [
    "df.drop(df[df['adr'] < 0].index, inplace = True)"
   ]
  },
  {
   "cell_type": "markdown",
   "id": "4decbbb7",
   "metadata": {},
   "source": [
    "#### 'required_car_parking_spaces'"
   ]
  },
  {
   "cell_type": "code",
   "execution_count": 59,
   "id": "bdf212e5",
   "metadata": {},
   "outputs": [
    {
     "data": {
      "text/plain": [
       "<AxesSubplot:xlabel='required_car_parking_spaces', ylabel='Count'>"
      ]
     },
     "execution_count": 59,
     "metadata": {},
     "output_type": "execute_result"
    },
    {
     "data": {
      "image/png": "[encoded data removed]",
      "text/plain": [
       "<Figure size 640x480 with 1 Axes>"
      ]
     },
     "metadata": {},
     "output_type": "display_data"
    }
   ],
   "source": [
    "# histogram\n",
    "\n",
    "sns.histplot(df['required_car_parking_spaces'], bins = 20, kde = True)"
   ]
  },
  {
   "cell_type": "code",
   "execution_count": 60,
   "id": "4cb59c6f",
   "metadata": {},
   "outputs": [
    {
     "data": {
      "text/plain": [
       "<AxesSubplot:xlabel='required_car_parking_spaces'>"
      ]
     },
     "execution_count": 60,
     "metadata": {},
     "output_type": "execute_result"
    },
    {
     "data": {
      "image/png": "[encoded data removed]",
      "text/plain": [
       "<Figure size 640x480 with 1 Axes>"
      ]
     },
     "metadata": {},
     "output_type": "display_data"
    }
   ],
   "source": [
    "# boxplot\n",
    "\n",
    "sns.boxplot(x = 'required_car_parking_spaces', data = df)"
   ]
  },
  {
   "cell_type": "markdown",
   "id": "24ec0a54",
   "metadata": {},
   "source": [
    "##### There are very few instances with the value 8 for car parking space. It appears to be a deviation from the rest of the values for this variable. Additionally, I will also cross-check to see the number of guests for this observation to understand if the value is legit or not."
   ]
  },
  {
   "cell_type": "code",
   "execution_count": 61,
   "id": "4f18c306",
   "metadata": {},
   "outputs": [
    {
     "data": {
      "text/plain": [
       "29045    2.0\n",
       "29046    2.0\n",
       "Name: adults, dtype: float64"
      ]
     },
     "execution_count": 61,
     "metadata": {},
     "output_type": "execute_result"
    }
   ],
   "source": [
    "df['adults'].loc[df['required_car_parking_spaces']==8]"
   ]
  },
  {
   "cell_type": "markdown",
   "id": "0060e173",
   "metadata": {},
   "source": [
    "##### Both rows have only 2 adults listed. Does not make sense for 2 adults to book a car parking space of 8. Will impute the outlier value with the median."
   ]
  },
  {
   "cell_type": "code",
   "execution_count": 62,
   "id": "f09cbf10",
   "metadata": {},
   "outputs": [],
   "source": [
    "# impute outliers with median\n",
    "\n",
    "df['required_car_parking_spaces'] = np.where((df['required_car_parking_spaces'] > 3), \n",
    "                                             df['required_car_parking_spaces'].median(), df['required_car_parking_spaces'])"
   ]
  },
  {
   "cell_type": "markdown",
   "id": "8a20645c",
   "metadata": {},
   "source": [
    "#### Outliers will not have completely disappeared, but they will no longer have such an impact on the results of the analysis."
   ]
  },
  {
   "cell_type": "code",
   "execution_count": 63,
   "id": "d2ec5605",
   "metadata": {},
   "outputs": [
    {
     "name": "stdout",
     "output_type": "stream",
     "text": [
      "<class 'pandas.core.frame.DataFrame'>\n",
      "Int64Index: 118985 entries, 0 to 119389\n",
      "Data columns (total 29 columns):\n",
      " #   Column                          Non-Null Count   Dtype  \n",
      "---  ------                          --------------   -----  \n",
      " 0   hotel                           118985 non-null  object \n",
      " 1   is_canceled                     118985 non-null  int64  \n",
      " 2   lead_time                       118985 non-null  float64\n",
      " 3   arrival_date_year               118985 non-null  int64  \n",
      " 4   arrival_date_month              118985 non-null  object \n",
      " 5   arrival_date_week_number        118985 non-null  int64  \n",
      " 6   arrival_date_day_of_month       118985 non-null  int64  \n",
      " 7   stays_in_weekend_nights         118985 non-null  float64\n",
      " 8   stays_in_week_nights            118985 non-null  float64\n",
      " 9   adults                          118985 non-null  float64\n",
      " 10  meal                            118985 non-null  object \n",
      " 11  country                         118985 non-null  object \n",
      " 12  market_segment                  118985 non-null  object \n",
      " 13  distribution_channel            118985 non-null  object \n",
      " 14  is_repeated_guest               118985 non-null  int64  \n",
      " 15  previous_cancellations          118985 non-null  int64  \n",
      " 16  previous_bookings_not_canceled  118985 non-null  int64  \n",
      " 17  reserved_room_type              118985 non-null  object \n",
      " 18  assigned_room_type              118985 non-null  object \n",
      " 19  booking_changes                 118985 non-null  float64\n",
      " 20  deposit_type                    118985 non-null  object \n",
      " 21  days_in_waiting_list            118985 non-null  int64  \n",
      " 22  customer_type                   118985 non-null  object \n",
      " 23  adr                             118985 non-null  float64\n",
      " 24  required_car_parking_spaces     118985 non-null  float64\n",
      " 25  total_of_special_requests       118985 non-null  int64  \n",
      " 26  reservation_status              118985 non-null  object \n",
      " 27  reservation_status_date         118985 non-null  object \n",
      " 28  kids                            118985 non-null  float64\n",
      "dtypes: float64(8), int64(9), object(12)\n",
      "memory usage: 27.2+ MB\n"
     ]
    }
   ],
   "source": [
    "df.info()"
   ]
  },
  {
   "cell_type": "code",
   "execution_count": 64,
   "id": "443c3fa1",
   "metadata": {},
   "outputs": [],
   "source": [
    "# update the data type of recently modified variables from float to int where needed\n",
    "\n",
    "df[['lead_time', 'stays_in_weekend_nights', 'stays_in_week_nights', 'adults', 'kids', 'booking_changes', 'required_car_parking_spaces']] = df[['lead_time', 'stays_in_weekend_nights', 'stays_in_week_nights', 'adults', 'kids', 'booking_changes', 'required_car_parking_spaces']].astype('int64')"
   ]
  },
  {
   "cell_type": "markdown",
   "id": "61ac6d07",
   "metadata": {},
   "source": [
    "### Duplicate values check"
   ]
  },
  {
   "cell_type": "code",
   "execution_count": 65,
   "id": "4e8c422e",
   "metadata": {},
   "outputs": [
    {
     "data": {
      "text/plain": [
       "32069"
      ]
     },
     "execution_count": 65,
     "metadata": {},
     "output_type": "execute_result"
    }
   ],
   "source": [
    "# check how many duplicate records exist\n",
    "\n",
    "sum(df.duplicated())"
   ]
  },
  {
   "cell_type": "code",
   "execution_count": 66,
   "id": "9d55902e",
   "metadata": {},
   "outputs": [],
   "source": [
    "# drop duplicate records\n",
    "\n",
    "df=df.drop_duplicates()"
   ]
  },
  {
   "cell_type": "code",
   "execution_count": 67,
   "id": "8028aa4d",
   "metadata": {},
   "outputs": [
    {
     "data": {
      "text/plain": [
       "(86916, 29)"
      ]
     },
     "execution_count": 67,
     "metadata": {},
     "output_type": "execute_result"
    }
   ],
   "source": [
    "# check the updated dataframe size\n",
    "\n",
    "df.shape"
   ]
  },
  {
   "cell_type": "markdown",
   "id": "6f2ce78f",
   "metadata": {},
   "source": [
    "## 05. Data preparation"
   ]
  },
  {
   "cell_type": "markdown",
   "id": "c3157bb6",
   "metadata": {},
   "source": [
    "### creating a new column 'guest_type' for customer segmentation"
   ]
  },
  {
   "cell_type": "code",
   "execution_count": 68,
   "id": "6a937167",
   "metadata": {},
   "outputs": [],
   "source": [
    "# create 'guest_type' using loc function\n",
    "\n",
    "df.loc[(df['adults']==1) & (df['kids']==0), 'guest_type']='Single'\n",
    "\n",
    "df.loc[(df['adults']==2) & (df['kids']==0), 'guest_type']='Couple'\n",
    "\n",
    "df.loc[(df['adults']>=1) & (df['kids']>=1), 'guest_type']='Family'\n",
    "\n",
    "df.loc[(df['adults']>2) & (df['kids']==0), 'guest_type']='Group'"
   ]
  },
  {
   "cell_type": "code",
   "execution_count": 69,
   "id": "49d7acba",
   "metadata": {},
   "outputs": [
    {
     "data": {
      "text/plain": [
       "Couple    56564\n",
       "Single    16014\n",
       "Family     8878\n",
       "Group      5460\n",
       "Name: guest_type, dtype: int64"
      ]
     },
     "execution_count": 69,
     "metadata": {},
     "output_type": "execute_result"
    }
   ],
   "source": [
    "# check the output\n",
    "\n",
    "df['guest_type'].value_counts(dropna=False)"
   ]
  },
  {
   "cell_type": "code",
   "execution_count": 70,
   "id": "3da259c6",
   "metadata": {},
   "outputs": [],
   "source": [
    "# create a column for total no. of guests\n",
    "\n",
    "df['total_guests'] = df['adults'] + df['kids']"
   ]
  },
  {
   "cell_type": "code",
   "execution_count": 71,
   "id": "84f0f3e8",
   "metadata": {},
   "outputs": [],
   "source": [
    "# create a column for total no. of night stays\n",
    "\n",
    "df['stays_in_total_nights'] = df['stays_in_weekend_nights'] + df['stays_in_week_nights']"
   ]
  },
  {
   "cell_type": "code",
   "execution_count": 72,
   "id": "3e387564",
   "metadata": {},
   "outputs": [
    {
     "data": {
      "text/plain": [
       "count    86916.000000\n",
       "mean         3.567180\n",
       "std          2.453392\n",
       "min          0.000000\n",
       "25%          2.000000\n",
       "50%          3.000000\n",
       "75%          5.000000\n",
       "max         16.000000\n",
       "Name: stays_in_total_nights, dtype: float64"
      ]
     },
     "execution_count": 72,
     "metadata": {},
     "output_type": "execute_result"
    }
   ],
   "source": [
    "df['stays_in_total_nights'].describe()"
   ]
  },
  {
   "cell_type": "code",
   "execution_count": 73,
   "id": "a75b304e",
   "metadata": {},
   "outputs": [],
   "source": [
    "# converting string month to numerical (Dec = 12, Jan = 1, etc.)\n",
    "\n",
    "arrival_month_num = pd.to_datetime(df.arrival_date_month, format='%B').dt.month"
   ]
  },
  {
   "cell_type": "code",
   "execution_count": 74,
   "id": "16dcbeab",
   "metadata": {},
   "outputs": [],
   "source": [
    "# creating the arrival date column by concatenating date component columns\n",
    "\n",
    "df['arrival_date'] = pd.to_datetime((df['arrival_date_year'].map(str) + \"-\" +\n",
    "                                     pd.to_datetime(df.arrival_date_month, format='%B').dt.month.map(str) + \"-\" +\n",
    "                                     df['arrival_date_day_of_month'].map(str)),yearfirst=True)"
   ]
  },
  {
   "cell_type": "markdown",
   "id": "4257cfce",
   "metadata": {},
   "source": [
    "#### 'is_canceled' is an important variable in this realm. Since it is categorical, I will create a new column 'cancellation_rate' based on 'is_canceled' by grouping 'lead_time' to further explore hotel booking cancellations by its lead time."
   ]
  },
  {
   "cell_type": "code",
   "execution_count": 75,
   "id": "5699a73a",
   "metadata": {},
   "outputs": [],
   "source": [
    "dict_lead_time_cancel_perc=round((df.groupby('lead_time')['is_canceled'].mean()*100), 2).to_dict()"
   ]
  },
  {
   "cell_type": "code",
   "execution_count": 76,
   "id": "06c9d621",
   "metadata": {},
   "outputs": [],
   "source": [
    "df['cancellation_rate']=df['lead_time'].map(dict_lead_time_cancel_perc)"
   ]
  },
  {
   "cell_type": "code",
   "execution_count": 77,
   "id": "94d2c827",
   "metadata": {},
   "outputs": [
    {
     "name": "stdout",
     "output_type": "stream",
     "text": [
      "<class 'pandas.core.frame.DataFrame'>\n",
      "Int64Index: 86916 entries, 0 to 119389\n",
      "Data columns (total 34 columns):\n",
      " #   Column                          Non-Null Count  Dtype         \n",
      "---  ------                          --------------  -----         \n",
      " 0   hotel                           86916 non-null  object        \n",
      " 1   is_canceled                     86916 non-null  int64         \n",
      " 2   lead_time                       86916 non-null  int64         \n",
      " 3   arrival_date_year               86916 non-null  int64         \n",
      " 4   arrival_date_month              86916 non-null  object        \n",
      " 5   arrival_date_week_number        86916 non-null  int64         \n",
      " 6   arrival_date_day_of_month       86916 non-null  int64         \n",
      " 7   stays_in_weekend_nights         86916 non-null  int64         \n",
      " 8   stays_in_week_nights            86916 non-null  int64         \n",
      " 9   adults                          86916 non-null  int64         \n",
      " 10  meal                            86916 non-null  object        \n",
      " 11  country                         86916 non-null  object        \n",
      " 12  market_segment                  86916 non-null  object        \n",
      " 13  distribution_channel            86916 non-null  object        \n",
      " 14  is_repeated_guest               86916 non-null  int64         \n",
      " 15  previous_cancellations          86916 non-null  int64         \n",
      " 16  previous_bookings_not_canceled  86916 non-null  int64         \n",
      " 17  reserved_room_type              86916 non-null  object        \n",
      " 18  assigned_room_type              86916 non-null  object        \n",
      " 19  booking_changes                 86916 non-null  int64         \n",
      " 20  deposit_type                    86916 non-null  object        \n",
      " 21  days_in_waiting_list            86916 non-null  int64         \n",
      " 22  customer_type                   86916 non-null  object        \n",
      " 23  adr                             86916 non-null  float64       \n",
      " 24  required_car_parking_spaces     86916 non-null  int64         \n",
      " 25  total_of_special_requests       86916 non-null  int64         \n",
      " 26  reservation_status              86916 non-null  object        \n",
      " 27  reservation_status_date         86916 non-null  object        \n",
      " 28  kids                            86916 non-null  int64         \n",
      " 29  guest_type                      86916 non-null  object        \n",
      " 30  total_guests                    86916 non-null  int64         \n",
      " 31  stays_in_total_nights           86916 non-null  int64         \n",
      " 32  arrival_date                    86916 non-null  datetime64[ns]\n",
      " 33  cancellation_rate               86916 non-null  float64       \n",
      "dtypes: datetime64[ns](1), float64(2), int64(18), object(13)\n",
      "memory usage: 23.2+ MB\n"
     ]
    }
   ],
   "source": [
    "df.info()"
   ]
  },
  {
   "cell_type": "code",
   "execution_count": 78,
   "id": "88217177",
   "metadata": {},
   "outputs": [
    {
     "data": {
      "text/plain": [
       "Index(['hotel', 'is_canceled', 'lead_time', 'arrival_date_year',\n",
       "       'arrival_date_month', 'arrival_date_week_number',\n",
       "       'arrival_date_day_of_month', 'stays_in_weekend_nights',\n",
       "       'stays_in_week_nights', 'adults', 'meal', 'country', 'market_segment',\n",
       "       'distribution_channel', 'is_repeated_guest', 'previous_cancellations',\n",
       "       'previous_bookings_not_canceled', 'reserved_room_type',\n",
       "       'assigned_room_type', 'booking_changes', 'deposit_type',\n",
       "       'days_in_waiting_list', 'customer_type', 'adr',\n",
       "       'required_car_parking_spaces', 'total_of_special_requests',\n",
       "       'reservation_status', 'reservation_status_date', 'kids', 'guest_type',\n",
       "       'total_guests', 'stays_in_total_nights', 'arrival_date',\n",
       "       'cancellation_rate'],\n",
       "      dtype='object')"
      ]
     },
     "execution_count": 78,
     "metadata": {},
     "output_type": "execute_result"
    }
   ],
   "source": [
    "df.columns"
   ]
  },
  {
   "cell_type": "code",
   "execution_count": 79,
   "id": "7c09e9ea",
   "metadata": {},
   "outputs": [],
   "source": [
    "# re-arrange columns\n",
    "\n",
    "cols=['hotel', 'is_canceled', 'lead_time', 'cancellation_rate', 'arrival_date_year',\n",
    "       'arrival_date_month', 'arrival_date_week_number',\n",
    "       'arrival_date_day_of_month', 'arrival_date', 'stays_in_weekend_nights',\n",
    "       'stays_in_week_nights', 'stays_in_total_nights', 'adults', 'kids', 'total_guests', 'guest_type', 'meal', 'country', 'market_segment',\n",
    "       'distribution_channel', 'is_repeated_guest', 'previous_cancellations',\n",
    "       'previous_bookings_not_canceled', 'reserved_room_type',\n",
    "       'assigned_room_type', 'booking_changes', 'deposit_type',\n",
    "       'days_in_waiting_list', 'customer_type', 'adr',\n",
    "       'required_car_parking_spaces', 'total_of_special_requests',\n",
    "       'reservation_status', 'reservation_status_date']"
   ]
  },
  {
   "cell_type": "code",
   "execution_count": 80,
   "id": "90b974ee",
   "metadata": {},
   "outputs": [],
   "source": [
    "df=df[cols]"
   ]
  },
  {
   "cell_type": "code",
   "execution_count": 81,
   "id": "cdff891f",
   "metadata": {},
   "outputs": [
    {
     "data": {
      "text/html": [
       "<div>\n",
       "<style scoped>\n",
       "    .dataframe tbody tr th:only-of-type {\n",
       "        vertical-align: middle;\n",
       "    }\n",
       "\n",
       "    .dataframe tbody tr th {\n",
       "        vertical-align: top;\n",
       "    }\n",
       "\n",
       "    .dataframe thead th {\n",
       "        text-align: right;\n",
       "    }\n",
       "</style>\n",
       "<table border=\"1\" class=\"dataframe\">\n",
       "  <thead>\n",
       "    <tr style=\"text-align: right;\">\n",
       "      <th></th>\n",
       "      <th>hotel</th>\n",
       "      <th>is_canceled</th>\n",
       "      <th>lead_time</th>\n",
       "      <th>cancellation_rate</th>\n",
       "      <th>arrival_date_year</th>\n",
       "      <th>arrival_date_month</th>\n",
       "      <th>arrival_date_week_number</th>\n",
       "      <th>arrival_date_day_of_month</th>\n",
       "      <th>arrival_date</th>\n",
       "      <th>stays_in_weekend_nights</th>\n",
       "      <th>...</th>\n",
       "      <th>assigned_room_type</th>\n",
       "      <th>booking_changes</th>\n",
       "      <th>deposit_type</th>\n",
       "      <th>days_in_waiting_list</th>\n",
       "      <th>customer_type</th>\n",
       "      <th>adr</th>\n",
       "      <th>required_car_parking_spaces</th>\n",
       "      <th>total_of_special_requests</th>\n",
       "      <th>reservation_status</th>\n",
       "      <th>reservation_status_date</th>\n",
       "    </tr>\n",
       "  </thead>\n",
       "  <tbody>\n",
       "    <tr>\n",
       "      <th>0</th>\n",
       "      <td>Resort Hotel</td>\n",
       "      <td>0</td>\n",
       "      <td>342</td>\n",
       "      <td>32.56</td>\n",
       "      <td>2015</td>\n",
       "      <td>July</td>\n",
       "      <td>27</td>\n",
       "      <td>1</td>\n",
       "      <td>2015-07-01</td>\n",
       "      <td>0</td>\n",
       "      <td>...</td>\n",
       "      <td>C</td>\n",
       "      <td>3</td>\n",
       "      <td>No Deposit</td>\n",
       "      <td>0</td>\n",
       "      <td>Transient</td>\n",
       "      <td>0.0</td>\n",
       "      <td>0</td>\n",
       "      <td>0</td>\n",
       "      <td>Check-Out</td>\n",
       "      <td>2015-07-01</td>\n",
       "    </tr>\n",
       "    <tr>\n",
       "      <th>1</th>\n",
       "      <td>Resort Hotel</td>\n",
       "      <td>0</td>\n",
       "      <td>69</td>\n",
       "      <td>34.82</td>\n",
       "      <td>2015</td>\n",
       "      <td>July</td>\n",
       "      <td>27</td>\n",
       "      <td>1</td>\n",
       "      <td>2015-07-01</td>\n",
       "      <td>0</td>\n",
       "      <td>...</td>\n",
       "      <td>C</td>\n",
       "      <td>4</td>\n",
       "      <td>No Deposit</td>\n",
       "      <td>0</td>\n",
       "      <td>Transient</td>\n",
       "      <td>0.0</td>\n",
       "      <td>0</td>\n",
       "      <td>0</td>\n",
       "      <td>Check-Out</td>\n",
       "      <td>2015-07-01</td>\n",
       "    </tr>\n",
       "    <tr>\n",
       "      <th>2</th>\n",
       "      <td>Resort Hotel</td>\n",
       "      <td>0</td>\n",
       "      <td>7</td>\n",
       "      <td>12.75</td>\n",
       "      <td>2015</td>\n",
       "      <td>July</td>\n",
       "      <td>27</td>\n",
       "      <td>1</td>\n",
       "      <td>2015-07-01</td>\n",
       "      <td>0</td>\n",
       "      <td>...</td>\n",
       "      <td>C</td>\n",
       "      <td>0</td>\n",
       "      <td>No Deposit</td>\n",
       "      <td>0</td>\n",
       "      <td>Transient</td>\n",
       "      <td>75.0</td>\n",
       "      <td>0</td>\n",
       "      <td>0</td>\n",
       "      <td>Check-Out</td>\n",
       "      <td>2015-07-02</td>\n",
       "    </tr>\n",
       "    <tr>\n",
       "      <th>3</th>\n",
       "      <td>Resort Hotel</td>\n",
       "      <td>0</td>\n",
       "      <td>13</td>\n",
       "      <td>20.26</td>\n",
       "      <td>2015</td>\n",
       "      <td>July</td>\n",
       "      <td>27</td>\n",
       "      <td>1</td>\n",
       "      <td>2015-07-01</td>\n",
       "      <td>0</td>\n",
       "      <td>...</td>\n",
       "      <td>A</td>\n",
       "      <td>0</td>\n",
       "      <td>No Deposit</td>\n",
       "      <td>0</td>\n",
       "      <td>Transient</td>\n",
       "      <td>75.0</td>\n",
       "      <td>0</td>\n",
       "      <td>0</td>\n",
       "      <td>Check-Out</td>\n",
       "      <td>2015-07-02</td>\n",
       "    </tr>\n",
       "    <tr>\n",
       "      <th>4</th>\n",
       "      <td>Resort Hotel</td>\n",
       "      <td>0</td>\n",
       "      <td>14</td>\n",
       "      <td>21.43</td>\n",
       "      <td>2015</td>\n",
       "      <td>July</td>\n",
       "      <td>27</td>\n",
       "      <td>1</td>\n",
       "      <td>2015-07-01</td>\n",
       "      <td>0</td>\n",
       "      <td>...</td>\n",
       "      <td>A</td>\n",
       "      <td>0</td>\n",
       "      <td>No Deposit</td>\n",
       "      <td>0</td>\n",
       "      <td>Transient</td>\n",
       "      <td>98.0</td>\n",
       "      <td>0</td>\n",
       "      <td>1</td>\n",
       "      <td>Check-Out</td>\n",
       "      <td>2015-07-03</td>\n",
       "    </tr>\n",
       "  </tbody>\n",
       "</table>\n",
       "<p>5 rows × 34 columns</p>\n",
       "</div>"
      ],
      "text/plain": [
       "          hotel  is_canceled  lead_time  cancellation_rate  arrival_date_year  \\\n",
       "0  Resort Hotel            0        342              32.56               2015   \n",
       "1  Resort Hotel            0         69              34.82               2015   \n",
       "2  Resort Hotel            0          7              12.75               2015   \n",
       "3  Resort Hotel            0         13              20.26               2015   \n",
       "4  Resort Hotel            0         14              21.43               2015   \n",
       "\n",
       "  arrival_date_month  arrival_date_week_number  arrival_date_day_of_month  \\\n",
       "0               July                        27                          1   \n",
       "1               July                        27                          1   \n",
       "2               July                        27                          1   \n",
       "3               July                        27                          1   \n",
       "4               July                        27                          1   \n",
       "\n",
       "  arrival_date  stays_in_weekend_nights  ...  assigned_room_type  \\\n",
       "0   2015-07-01                        0  ...                   C   \n",
       "1   2015-07-01                        0  ...                   C   \n",
       "2   2015-07-01                        0  ...                   C   \n",
       "3   2015-07-01                        0  ...                   A   \n",
       "4   2015-07-01                        0  ...                   A   \n",
       "\n",
       "   booking_changes  deposit_type  days_in_waiting_list  customer_type   adr  \\\n",
       "0                3    No Deposit                     0      Transient   0.0   \n",
       "1                4    No Deposit                     0      Transient   0.0   \n",
       "2                0    No Deposit                     0      Transient  75.0   \n",
       "3                0    No Deposit                     0      Transient  75.0   \n",
       "4                0    No Deposit                     0      Transient  98.0   \n",
       "\n",
       "  required_car_parking_spaces total_of_special_requests reservation_status  \\\n",
       "0                           0                         0          Check-Out   \n",
       "1                           0                         0          Check-Out   \n",
       "2                           0                         0          Check-Out   \n",
       "3                           0                         0          Check-Out   \n",
       "4                           0                         1          Check-Out   \n",
       "\n",
       "  reservation_status_date  \n",
       "0              2015-07-01  \n",
       "1              2015-07-01  \n",
       "2              2015-07-02  \n",
       "3              2015-07-02  \n",
       "4              2015-07-03  \n",
       "\n",
       "[5 rows x 34 columns]"
      ]
     },
     "execution_count": 81,
     "metadata": {},
     "output_type": "execute_result"
    }
   ],
   "source": [
    "df.head()"
   ]
  },
  {
   "cell_type": "markdown",
   "id": "b12bd51c",
   "metadata": {},
   "source": [
    "#### The above stats look good to go!"
   ]
  },
  {
   "cell_type": "markdown",
   "id": "efcb9157",
   "metadata": {},
   "source": [
    "## 06. Export dataframe"
   ]
  },
  {
   "cell_type": "code",
   "execution_count": 82,
   "id": "40ee5437",
   "metadata": {},
   "outputs": [],
   "source": [
    "# export the dataframe to csv\n",
    "\n",
    "df.to_csv(os.path.join(path, 'Data', 'Prepared Data', 'hotel_booking_cleaned.csv'))"
   ]
  },
  {
   "cell_type": "code",
   "execution_count": null,
   "id": "3362fc7a",
   "metadata": {},
   "outputs": [],
   "source": []
  }
 ],
 "metadata": {
  "kernelspec": {
   "display_name": "Python 3 (ipykernel)",
   "language": "python",
   "name": "python3"
  },
  "language_info": {
   "codemirror_mode": {
    "name": "ipython",
    "version": 3
   },
   "file_extension": ".py",
   "mimetype": "text/x-python",
   "name": "python",
   "nbconvert_exporter": "python",
   "pygments_lexer": "ipython3",
   "version": "3.9.13"
  }
 },
 "nbformat": 4,
 "nbformat_minor": 5
}
